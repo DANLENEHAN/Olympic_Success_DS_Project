{
 "cells": [
  {
   "cell_type": "markdown",
   "metadata": {},
   "source": [
    "# Analysis"
   ]
  },
  {
   "cell_type": "markdown",
   "metadata": {},
   "source": [
    "Cell executes all analysis notebooks"
   ]
  },
  {
   "cell_type": "code",
   "execution_count": 2,
   "metadata": {
    "collapsed": true
   },
   "outputs": [],
   "source": [
    "%%capture\n",
    "%run 100-Network_Analysis-Podiums.ipynb\n",
    "%run 150-Network_Analysis-Competitiveness.ipynb\n",
    "%run 200-Population.ipynb\n",
    "%run 250-Population-CSV.ipynb\n",
    "%run 275_Pop_Prep.ipynb\n",
    "%run 300_GDP_Prep.ipynb\n",
    "%run 350_RQ1_GDP.ipynb\n",
    "%run 375_RQ1_GDP-Short.ipynb\n",
    "%run 400_RQ2_Pop_Short.ipynb\n",
    "%run 500-Education.ipynb\n",
    "%run 600-Elevation.ipynb"
   ]
  }
 ],
 "metadata": {
  "kernelspec": {
   "display_name": "Python 3",
   "language": "python",
   "name": "python3"
  },
  "language_info": {
   "codemirror_mode": {
    "name": "ipython",
    "version": 3
   },
   "file_extension": ".py",
   "mimetype": "text/x-python",
   "name": "python",
   "nbconvert_exporter": "python",
   "pygments_lexer": "ipython3",
   "version": "3.6.3"
  }
 },
 "nbformat": 4,
 "nbformat_minor": 2
}
