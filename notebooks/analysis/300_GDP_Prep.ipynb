{
 "cells": [
  {
   "cell_type": "markdown",
   "metadata": {},
   "source": [
    "# GDP/ RQ1 analysis prep"
   ]
  },
  {
   "cell_type": "markdown",
   "metadata": {},
   "source": [
    "# Purpose \n",
    "The purpose of this notebook is to set up and create all the fields we will need for proper analysis of GDP for example creating columns with all the nomrailsed values of GDP, GDP Per capita, Rating Share etc. We also create this Rating field so countries performance can be compared. "
   ]
  },
  {
   "cell_type": "markdown",
   "metadata": {},
   "source": [
    "# Datasets\n",
    "Uses: <br>\n",
    "** complete_data.csv ** from 1000-Joining <br>\n",
    "Creates: <br>\n",
    "** gdp.csv ** a csv with all the required fields for proper GDP analysis. "
   ]
  },
  {
   "cell_type": "code",
   "execution_count": 45,
   "metadata": {
    "collapsed": true
   },
   "outputs": [],
   "source": [
    "import os.path\n",
    "import pandas as pd\n",
    "import numpy as np\n",
    "import matplotlib.pyplot as plt\n",
    "import math\n",
    "%matplotlib inline\n",
    "import string\n",
    "import sys, os"
   ]
  },
  {
   "cell_type": "code",
   "execution_count": 46,
   "metadata": {
    "collapsed": true
   },
   "outputs": [],
   "source": [
    "# Ensure the file exists\n",
    "if not os.path.exists(  r\"..\\..\\data\\analysis\\complete_data.csv\" ):\n",
    "    print(\"Missing dataset file\")"
   ]
  },
  {
   "cell_type": "code",
   "execution_count": 47,
   "metadata": {
    "collapsed": true
   },
   "outputs": [],
   "source": [
    "# read the medal csv into a dataframe\n",
    "df = pd.read_csv(  r\"..\\..\\data\\analysis\\complete_data.csv\", encoding = \"ISO-8859-1\")"
   ]
  },
  {
   "cell_type": "code",
   "execution_count": 48,
   "metadata": {},
   "outputs": [
    {
     "data": {
      "text/plain": [
       "Index(['Unnamed: 0', 'Year', 'Host_Country', 'Host_City', 'Summer', 'Winter',\n",
       "       'Total_Males', 'Total_Females', 'Total_Athletes', 'Discipline', 'Sport',\n",
       "       'Ath_Name', 'Gender', 'Home_Adv', 'Gold', 'Silver', 'Bronze',\n",
       "       'Total_Medals', 'Ath_Rating', 'Ath_Rank', 'NOC', 'NOC_Males_Sent',\n",
       "       'NOC_Females_Sent', 'NOC_Total_Sent', 'NOC_Gold', 'NOC_Silver',\n",
       "       'NOC_Bronze', 'NOC_Total_Medals', 'NOC_Rating', 'NOC_Rank', 'Country',\n",
       "       'Population', 'Males', 'Females', 'Life_Expectancy', 'GDP', 'Region',\n",
       "       'Elevation', 'Area_SqKM', 'Centroid_Longitude', 'Centroid_Latitude',\n",
       "       'Population_Density', 'CO2_Emissions', 'Methane_Emissions',\n",
       "       'Nitrous_Oxide_Emisions', 'Total_Emissions', 'Emmisions_per_Capita',\n",
       "       'Code', 'Lowest_Point', 'Highest_Point', 'Elevation_Range',\n",
       "       'Education_Index'],\n",
       "      dtype='object')"
      ]
     },
     "execution_count": 48,
     "metadata": {},
     "output_type": "execute_result"
    }
   ],
   "source": [
    "# looking at the GDP dataset\n",
    "df.columns"
   ]
  },
  {
   "cell_type": "code",
   "execution_count": 49,
   "metadata": {
    "collapsed": true
   },
   "outputs": [],
   "source": [
    "#First we'll drop all unnecessary columns \n",
    "df = df.drop(df.columns[[0, 32, 33, 34, 36, 37, 38, 39, 40, 41, 42, 43, 44, 45, 46, 48, 49, 50, 51]], axis=1)"
   ]
  },
  {
   "cell_type": "code",
   "execution_count": 50,
   "metadata": {},
   "outputs": [
    {
     "data": {
      "text/plain": [
       "Index(['Year', 'Host_Country', 'Host_City', 'Summer', 'Winter', 'Total_Males',\n",
       "       'Total_Females', 'Total_Athletes', 'Discipline', 'Sport', 'Ath_Name',\n",
       "       'Gender', 'Home_Adv', 'Gold', 'Silver', 'Bronze', 'Total_Medals',\n",
       "       'Ath_Rating', 'Ath_Rank', 'NOC', 'NOC_Males_Sent', 'NOC_Females_Sent',\n",
       "       'NOC_Total_Sent', 'NOC_Gold', 'NOC_Silver', 'NOC_Bronze',\n",
       "       'NOC_Total_Medals', 'NOC_Rating', 'NOC_Rank', 'Country', 'Population',\n",
       "       'GDP', 'Code'],\n",
       "      dtype='object')"
      ]
     },
     "execution_count": 50,
     "metadata": {},
     "output_type": "execute_result"
    }
   ],
   "source": [
    "# A look with all the fields relevant to GDP analysis \n",
    "df.columns"
   ]
  },
  {
   "cell_type": "markdown",
   "metadata": {},
   "source": [
    "# Creating a fair comparison field (Medal Share)\n",
    "First we'll create the attional fields Total Bronze, Total Silver, Total Gold, Total Medals and Total Medals for each NOC. then we'll also have to get the Total Bronze, Total Silver, Total Gold, Total Medals and Total Medals for each Olympic games so we can create the Medal share field for each NOC allowing use to compare their performances. "
   ]
  },
  {
   "cell_type": "code",
   "execution_count": 51,
   "metadata": {
    "collapsed": true
   },
   "outputs": [],
   "source": [
    "# Getting all the total values for each of the NOCs\n",
    "NOC_Totals = df.groupby(['Year', 'Host_City', 'NOC'])[[\"Gold\", 'Total_Medals', 'Ath_Rating']].sum().reset_index()"
   ]
  },
  {
   "cell_type": "code",
   "execution_count": 52,
   "metadata": {
    "collapsed": true
   },
   "outputs": [],
   "source": [
    "# re-sorting the NOc_Table by total medals and rating \n",
    "NOC_Totals = NOC_Totals.sort_values(by=['Year', 'Host_City', 'Total_Medals', 'Ath_Rating'], ascending=False).reset_index()\n",
    "# Renaming columns for joining \n",
    "NOC_Totals.rename(columns={'Gold': 'N_Total_Gold'}, inplace=True)\n",
    "NOC_Totals.rename(columns={'Total_Medals': 'N_Total_Medals'}, inplace=True)\n",
    "NOC_Totals.rename(columns={'Ath_Rating': 'N_Total_Rating'}, inplace=True)\n",
    "# Dropping the old index \n",
    "NOC_Totals = NOC_Totals.drop(NOC_Totals.columns[[0]], axis=1)"
   ]
  },
  {
   "cell_type": "code",
   "execution_count": 53,
   "metadata": {},
   "outputs": [
    {
     "data": {
      "text/html": [
       "<div>\n",
       "<style>\n",
       "    .dataframe thead tr:only-child th {\n",
       "        text-align: right;\n",
       "    }\n",
       "\n",
       "    .dataframe thead th {\n",
       "        text-align: left;\n",
       "    }\n",
       "\n",
       "    .dataframe tbody tr th {\n",
       "        vertical-align: top;\n",
       "    }\n",
       "</style>\n",
       "<table border=\"1\" class=\"dataframe\">\n",
       "  <thead>\n",
       "    <tr style=\"text-align: right;\">\n",
       "      <th></th>\n",
       "      <th>Year</th>\n",
       "      <th>Host_City</th>\n",
       "      <th>NOC</th>\n",
       "      <th>N_Total_Gold</th>\n",
       "      <th>N_Total_Medals</th>\n",
       "      <th>N_Total_Rating</th>\n",
       "    </tr>\n",
       "  </thead>\n",
       "  <tbody>\n",
       "    <tr>\n",
       "      <th>0</th>\n",
       "      <td>2016</td>\n",
       "      <td>Rio</td>\n",
       "      <td>USA</td>\n",
       "      <td>140</td>\n",
       "      <td>265</td>\n",
       "      <td>599</td>\n",
       "    </tr>\n",
       "    <tr>\n",
       "      <th>1</th>\n",
       "      <td>2016</td>\n",
       "      <td>Rio</td>\n",
       "      <td>GER</td>\n",
       "      <td>49</td>\n",
       "      <td>160</td>\n",
       "      <td>302</td>\n",
       "    </tr>\n",
       "    <tr>\n",
       "      <th>2</th>\n",
       "      <td>2016</td>\n",
       "      <td>Rio</td>\n",
       "      <td>GBR</td>\n",
       "      <td>64</td>\n",
       "      <td>143</td>\n",
       "      <td>325</td>\n",
       "    </tr>\n",
       "    <tr>\n",
       "      <th>3</th>\n",
       "      <td>2016</td>\n",
       "      <td>Rio</td>\n",
       "      <td>RUS</td>\n",
       "      <td>52</td>\n",
       "      <td>114</td>\n",
       "      <td>246</td>\n",
       "    </tr>\n",
       "    <tr>\n",
       "      <th>4</th>\n",
       "      <td>2016</td>\n",
       "      <td>Rio</td>\n",
       "      <td>CHN</td>\n",
       "      <td>46</td>\n",
       "      <td>113</td>\n",
       "      <td>235</td>\n",
       "    </tr>\n",
       "  </tbody>\n",
       "</table>\n",
       "</div>"
      ],
      "text/plain": [
       "   Year Host_City  NOC  N_Total_Gold  N_Total_Medals  N_Total_Rating\n",
       "0  2016       Rio  USA           140             265             599\n",
       "1  2016       Rio  GER            49             160             302\n",
       "2  2016       Rio  GBR            64             143             325\n",
       "3  2016       Rio  RUS            52             114             246\n",
       "4  2016       Rio  CHN            46             113             235"
      ]
     },
     "execution_count": 53,
     "metadata": {},
     "output_type": "execute_result"
    }
   ],
   "source": [
    "NOC_Totals.head(5)"
   ]
  },
  {
   "cell_type": "code",
   "execution_count": 54,
   "metadata": {
    "collapsed": true
   },
   "outputs": [],
   "source": [
    "# Getting all the total values for each of the Games\n",
    "Games_Totals = NOC_Totals.groupby(['Year', 'Host_City'])[[\"N_Total_Gold\", 'N_Total_Medals', 'N_Total_Rating']].sum().reset_index()"
   ]
  },
  {
   "cell_type": "code",
   "execution_count": 55,
   "metadata": {
    "collapsed": true
   },
   "outputs": [],
   "source": [
    "# re-sorting the NOc_Table by total medals and rating \n",
    "Games_Totals = Games_Totals.sort_values(by=['Year', 'Host_City', 'N_Total_Medals', 'N_Total_Rating'], ascending=False).reset_index()\n",
    "# Renaming the columns for joining \n",
    "Games_Totals.rename(columns={'N_Total_Gold': 'G_Total_Gold'}, inplace=True)\n",
    "Games_Totals.rename(columns={'N_Total_Medals': 'G_Total_Medals'}, inplace=True)\n",
    "Games_Totals.rename(columns={'N_Total_Rating': 'G_Total_Rating'}, inplace=True)\n",
    "# Dropping the old index \n",
    "Games_Totals = Games_Totals.drop(Games_Totals.columns[[0]], axis=1)"
   ]
  },
  {
   "cell_type": "code",
   "execution_count": 56,
   "metadata": {},
   "outputs": [
    {
     "data": {
      "text/html": [
       "<div>\n",
       "<style>\n",
       "    .dataframe thead tr:only-child th {\n",
       "        text-align: right;\n",
       "    }\n",
       "\n",
       "    .dataframe thead th {\n",
       "        text-align: left;\n",
       "    }\n",
       "\n",
       "    .dataframe tbody tr th {\n",
       "        vertical-align: top;\n",
       "    }\n",
       "</style>\n",
       "<table border=\"1\" class=\"dataframe\">\n",
       "  <thead>\n",
       "    <tr style=\"text-align: right;\">\n",
       "      <th></th>\n",
       "      <th>Year</th>\n",
       "      <th>Host_City</th>\n",
       "      <th>G_Total_Gold</th>\n",
       "      <th>G_Total_Medals</th>\n",
       "      <th>G_Total_Rating</th>\n",
       "    </tr>\n",
       "  </thead>\n",
       "  <tbody>\n",
       "    <tr>\n",
       "      <th>0</th>\n",
       "      <td>2016</td>\n",
       "      <td>Rio</td>\n",
       "      <td>667</td>\n",
       "      <td>2021</td>\n",
       "      <td>4009</td>\n",
       "    </tr>\n",
       "    <tr>\n",
       "      <th>1</th>\n",
       "      <td>2014</td>\n",
       "      <td>Sochi</td>\n",
       "      <td>200</td>\n",
       "      <td>601</td>\n",
       "      <td>1198</td>\n",
       "    </tr>\n",
       "    <tr>\n",
       "      <th>2</th>\n",
       "      <td>2012</td>\n",
       "      <td>London</td>\n",
       "      <td>634</td>\n",
       "      <td>1944</td>\n",
       "      <td>3845</td>\n",
       "    </tr>\n",
       "    <tr>\n",
       "      <th>3</th>\n",
       "      <td>2010</td>\n",
       "      <td>Vancouver</td>\n",
       "      <td>176</td>\n",
       "      <td>529</td>\n",
       "      <td>1058</td>\n",
       "    </tr>\n",
       "    <tr>\n",
       "      <th>4</th>\n",
       "      <td>2008</td>\n",
       "      <td>Beijing</td>\n",
       "      <td>666</td>\n",
       "      <td>2039</td>\n",
       "      <td>4036</td>\n",
       "    </tr>\n",
       "  </tbody>\n",
       "</table>\n",
       "</div>"
      ],
      "text/plain": [
       "   Year  Host_City  G_Total_Gold  G_Total_Medals  G_Total_Rating\n",
       "0  2016        Rio           667            2021            4009\n",
       "1  2014      Sochi           200             601            1198\n",
       "2  2012     London           634            1944            3845\n",
       "3  2010  Vancouver           176             529            1058\n",
       "4  2008    Beijing           666            2039            4036"
      ]
     },
     "execution_count": 56,
     "metadata": {},
     "output_type": "execute_result"
    }
   ],
   "source": [
    "Games_Totals.head(5)"
   ]
  },
  {
   "cell_type": "code",
   "execution_count": 57,
   "metadata": {
    "collapsed": true
   },
   "outputs": [],
   "source": [
    "# Setting the indexes of both tables so they are joinable \n",
    "NOC_Totals = NOC_Totals.set_index(['Year', 'Host_City'])\n",
    "Games_Totals = Games_Totals.set_index(['Year', 'Host_City'])"
   ]
  },
  {
   "cell_type": "code",
   "execution_count": 58,
   "metadata": {
    "collapsed": true
   },
   "outputs": [],
   "source": [
    "Totalsdf = NOC_Totals.join(Games_Totals).reset_index()"
   ]
  },
  {
   "cell_type": "code",
   "execution_count": 59,
   "metadata": {},
   "outputs": [
    {
     "data": {
      "text/html": [
       "<div>\n",
       "<style>\n",
       "    .dataframe thead tr:only-child th {\n",
       "        text-align: right;\n",
       "    }\n",
       "\n",
       "    .dataframe thead th {\n",
       "        text-align: left;\n",
       "    }\n",
       "\n",
       "    .dataframe tbody tr th {\n",
       "        vertical-align: top;\n",
       "    }\n",
       "</style>\n",
       "<table border=\"1\" class=\"dataframe\">\n",
       "  <thead>\n",
       "    <tr style=\"text-align: right;\">\n",
       "      <th></th>\n",
       "      <th>Year</th>\n",
       "      <th>Host_City</th>\n",
       "      <th>NOC</th>\n",
       "      <th>N_Total_Gold</th>\n",
       "      <th>N_Total_Medals</th>\n",
       "      <th>N_Total_Rating</th>\n",
       "      <th>G_Total_Gold</th>\n",
       "      <th>G_Total_Medals</th>\n",
       "      <th>G_Total_Rating</th>\n",
       "    </tr>\n",
       "  </thead>\n",
       "  <tbody>\n",
       "    <tr>\n",
       "      <th>0</th>\n",
       "      <td>1960</td>\n",
       "      <td>Rome</td>\n",
       "      <td>URS</td>\n",
       "      <td>61</td>\n",
       "      <td>169</td>\n",
       "      <td>354</td>\n",
       "      <td>295</td>\n",
       "      <td>882</td>\n",
       "      <td>1758</td>\n",
       "    </tr>\n",
       "    <tr>\n",
       "      <th>1</th>\n",
       "      <td>1960</td>\n",
       "      <td>Rome</td>\n",
       "      <td>USA</td>\n",
       "      <td>68</td>\n",
       "      <td>112</td>\n",
       "      <td>271</td>\n",
       "      <td>295</td>\n",
       "      <td>882</td>\n",
       "      <td>1758</td>\n",
       "    </tr>\n",
       "    <tr>\n",
       "      <th>2</th>\n",
       "      <td>1960</td>\n",
       "      <td>Rome</td>\n",
       "      <td>EUA</td>\n",
       "      <td>34</td>\n",
       "      <td>88</td>\n",
       "      <td>189</td>\n",
       "      <td>295</td>\n",
       "      <td>882</td>\n",
       "      <td>1758</td>\n",
       "    </tr>\n",
       "    <tr>\n",
       "      <th>3</th>\n",
       "      <td>1960</td>\n",
       "      <td>Rome</td>\n",
       "      <td>ITA</td>\n",
       "      <td>36</td>\n",
       "      <td>88</td>\n",
       "      <td>178</td>\n",
       "      <td>295</td>\n",
       "      <td>882</td>\n",
       "      <td>1758</td>\n",
       "    </tr>\n",
       "    <tr>\n",
       "      <th>4</th>\n",
       "      <td>1960</td>\n",
       "      <td>Rome</td>\n",
       "      <td>HUN</td>\n",
       "      <td>13</td>\n",
       "      <td>65</td>\n",
       "      <td>107</td>\n",
       "      <td>295</td>\n",
       "      <td>882</td>\n",
       "      <td>1758</td>\n",
       "    </tr>\n",
       "  </tbody>\n",
       "</table>\n",
       "</div>"
      ],
      "text/plain": [
       "   Year Host_City  NOC  N_Total_Gold  N_Total_Medals  N_Total_Rating  \\\n",
       "0  1960      Rome  URS            61             169             354   \n",
       "1  1960      Rome  USA            68             112             271   \n",
       "2  1960      Rome  EUA            34              88             189   \n",
       "3  1960      Rome  ITA            36              88             178   \n",
       "4  1960      Rome  HUN            13              65             107   \n",
       "\n",
       "   G_Total_Gold  G_Total_Medals  G_Total_Rating  \n",
       "0           295             882            1758  \n",
       "1           295             882            1758  \n",
       "2           295             882            1758  \n",
       "3           295             882            1758  \n",
       "4           295             882            1758  "
      ]
     },
     "execution_count": 59,
     "metadata": {},
     "output_type": "execute_result"
    }
   ],
   "source": [
    "Totalsdf.head(5)"
   ]
  },
  {
   "cell_type": "code",
   "execution_count": 60,
   "metadata": {
    "collapsed": true
   },
   "outputs": [],
   "source": [
    "Totalsdf['Gold_Share'] = Totalsdf['N_Total_Gold'] / Totalsdf['G_Total_Gold']\n",
    "Totalsdf['Medal_Share'] = Totalsdf['N_Total_Medals'] / Totalsdf['G_Total_Medals']\n",
    "Totalsdf['Rating_Share'] = Totalsdf['N_Total_Rating'] / Totalsdf['G_Total_Rating']"
   ]
  },
  {
   "cell_type": "code",
   "execution_count": 61,
   "metadata": {},
   "outputs": [
    {
     "data": {
      "text/html": [
       "<div>\n",
       "<style>\n",
       "    .dataframe thead tr:only-child th {\n",
       "        text-align: right;\n",
       "    }\n",
       "\n",
       "    .dataframe thead th {\n",
       "        text-align: left;\n",
       "    }\n",
       "\n",
       "    .dataframe tbody tr th {\n",
       "        vertical-align: top;\n",
       "    }\n",
       "</style>\n",
       "<table border=\"1\" class=\"dataframe\">\n",
       "  <thead>\n",
       "    <tr style=\"text-align: right;\">\n",
       "      <th></th>\n",
       "      <th>Year</th>\n",
       "      <th>Host_City</th>\n",
       "      <th>NOC</th>\n",
       "      <th>N_Total_Gold</th>\n",
       "      <th>N_Total_Medals</th>\n",
       "      <th>N_Total_Rating</th>\n",
       "      <th>G_Total_Gold</th>\n",
       "      <th>G_Total_Medals</th>\n",
       "      <th>G_Total_Rating</th>\n",
       "      <th>Gold_Share</th>\n",
       "      <th>Medal_Share</th>\n",
       "      <th>Rating_Share</th>\n",
       "    </tr>\n",
       "  </thead>\n",
       "  <tbody>\n",
       "    <tr>\n",
       "      <th>0</th>\n",
       "      <td>1960</td>\n",
       "      <td>Rome</td>\n",
       "      <td>URS</td>\n",
       "      <td>61</td>\n",
       "      <td>169</td>\n",
       "      <td>354</td>\n",
       "      <td>295</td>\n",
       "      <td>882</td>\n",
       "      <td>1758</td>\n",
       "      <td>0.206780</td>\n",
       "      <td>0.191610</td>\n",
       "      <td>0.201365</td>\n",
       "    </tr>\n",
       "    <tr>\n",
       "      <th>1</th>\n",
       "      <td>1960</td>\n",
       "      <td>Rome</td>\n",
       "      <td>USA</td>\n",
       "      <td>68</td>\n",
       "      <td>112</td>\n",
       "      <td>271</td>\n",
       "      <td>295</td>\n",
       "      <td>882</td>\n",
       "      <td>1758</td>\n",
       "      <td>0.230508</td>\n",
       "      <td>0.126984</td>\n",
       "      <td>0.154152</td>\n",
       "    </tr>\n",
       "    <tr>\n",
       "      <th>2</th>\n",
       "      <td>1960</td>\n",
       "      <td>Rome</td>\n",
       "      <td>EUA</td>\n",
       "      <td>34</td>\n",
       "      <td>88</td>\n",
       "      <td>189</td>\n",
       "      <td>295</td>\n",
       "      <td>882</td>\n",
       "      <td>1758</td>\n",
       "      <td>0.115254</td>\n",
       "      <td>0.099773</td>\n",
       "      <td>0.107509</td>\n",
       "    </tr>\n",
       "    <tr>\n",
       "      <th>3</th>\n",
       "      <td>1960</td>\n",
       "      <td>Rome</td>\n",
       "      <td>ITA</td>\n",
       "      <td>36</td>\n",
       "      <td>88</td>\n",
       "      <td>178</td>\n",
       "      <td>295</td>\n",
       "      <td>882</td>\n",
       "      <td>1758</td>\n",
       "      <td>0.122034</td>\n",
       "      <td>0.099773</td>\n",
       "      <td>0.101251</td>\n",
       "    </tr>\n",
       "    <tr>\n",
       "      <th>4</th>\n",
       "      <td>1960</td>\n",
       "      <td>Rome</td>\n",
       "      <td>HUN</td>\n",
       "      <td>13</td>\n",
       "      <td>65</td>\n",
       "      <td>107</td>\n",
       "      <td>295</td>\n",
       "      <td>882</td>\n",
       "      <td>1758</td>\n",
       "      <td>0.044068</td>\n",
       "      <td>0.073696</td>\n",
       "      <td>0.060865</td>\n",
       "    </tr>\n",
       "  </tbody>\n",
       "</table>\n",
       "</div>"
      ],
      "text/plain": [
       "   Year Host_City  NOC  N_Total_Gold  N_Total_Medals  N_Total_Rating  \\\n",
       "0  1960      Rome  URS            61             169             354   \n",
       "1  1960      Rome  USA            68             112             271   \n",
       "2  1960      Rome  EUA            34              88             189   \n",
       "3  1960      Rome  ITA            36              88             178   \n",
       "4  1960      Rome  HUN            13              65             107   \n",
       "\n",
       "   G_Total_Gold  G_Total_Medals  G_Total_Rating  Gold_Share  Medal_Share  \\\n",
       "0           295             882            1758    0.206780     0.191610   \n",
       "1           295             882            1758    0.230508     0.126984   \n",
       "2           295             882            1758    0.115254     0.099773   \n",
       "3           295             882            1758    0.122034     0.099773   \n",
       "4           295             882            1758    0.044068     0.073696   \n",
       "\n",
       "   Rating_Share  \n",
       "0      0.201365  \n",
       "1      0.154152  \n",
       "2      0.107509  \n",
       "3      0.101251  \n",
       "4      0.060865  "
      ]
     },
     "execution_count": 61,
     "metadata": {},
     "output_type": "execute_result"
    }
   ],
   "source": [
    "Totalsdf.head(5)"
   ]
  },
  {
   "cell_type": "code",
   "execution_count": 62,
   "metadata": {},
   "outputs": [
    {
     "data": {
      "text/html": [
       "<div>\n",
       "<style>\n",
       "    .dataframe thead tr:only-child th {\n",
       "        text-align: right;\n",
       "    }\n",
       "\n",
       "    .dataframe thead th {\n",
       "        text-align: left;\n",
       "    }\n",
       "\n",
       "    .dataframe tbody tr th {\n",
       "        vertical-align: top;\n",
       "    }\n",
       "</style>\n",
       "<table border=\"1\" class=\"dataframe\">\n",
       "  <thead>\n",
       "    <tr style=\"text-align: right;\">\n",
       "      <th></th>\n",
       "      <th>Year</th>\n",
       "      <th>Host_Country</th>\n",
       "      <th>Host_City</th>\n",
       "      <th>Summer</th>\n",
       "      <th>Winter</th>\n",
       "      <th>Total_Males</th>\n",
       "      <th>Total_Females</th>\n",
       "      <th>Total_Athletes</th>\n",
       "      <th>Discipline</th>\n",
       "      <th>Sport</th>\n",
       "      <th>...</th>\n",
       "      <th>NOC_Gold</th>\n",
       "      <th>NOC_Silver</th>\n",
       "      <th>NOC_Bronze</th>\n",
       "      <th>NOC_Total_Medals</th>\n",
       "      <th>NOC_Rating</th>\n",
       "      <th>NOC_Rank</th>\n",
       "      <th>Country</th>\n",
       "      <th>Population</th>\n",
       "      <th>GDP</th>\n",
       "      <th>Code</th>\n",
       "    </tr>\n",
       "  </thead>\n",
       "  <tbody>\n",
       "    <tr>\n",
       "      <th>0</th>\n",
       "      <td>1960</td>\n",
       "      <td>ITA</td>\n",
       "      <td>Rome</td>\n",
       "      <td>True</td>\n",
       "      <td>False</td>\n",
       "      <td>4727</td>\n",
       "      <td>611</td>\n",
       "      <td>5338</td>\n",
       "      <td>Sailing</td>\n",
       "      <td>Sailing</td>\n",
       "      <td>...</td>\n",
       "      <td>0</td>\n",
       "      <td>3</td>\n",
       "      <td>1</td>\n",
       "      <td>4</td>\n",
       "      <td>7</td>\n",
       "      <td>26</td>\n",
       "      <td>Argentina</td>\n",
       "      <td>20619075.0</td>\n",
       "      <td>2.117186e+10</td>\n",
       "      <td>ARG</td>\n",
       "    </tr>\n",
       "    <tr>\n",
       "      <th>1</th>\n",
       "      <td>1960</td>\n",
       "      <td>ITA</td>\n",
       "      <td>Rome</td>\n",
       "      <td>True</td>\n",
       "      <td>False</td>\n",
       "      <td>4727</td>\n",
       "      <td>611</td>\n",
       "      <td>5338</td>\n",
       "      <td>Sailing</td>\n",
       "      <td>Sailing</td>\n",
       "      <td>...</td>\n",
       "      <td>0</td>\n",
       "      <td>3</td>\n",
       "      <td>1</td>\n",
       "      <td>4</td>\n",
       "      <td>7</td>\n",
       "      <td>26</td>\n",
       "      <td>Argentina</td>\n",
       "      <td>20619075.0</td>\n",
       "      <td>2.117186e+10</td>\n",
       "      <td>ARG</td>\n",
       "    </tr>\n",
       "    <tr>\n",
       "      <th>2</th>\n",
       "      <td>1960</td>\n",
       "      <td>ITA</td>\n",
       "      <td>Rome</td>\n",
       "      <td>True</td>\n",
       "      <td>False</td>\n",
       "      <td>4727</td>\n",
       "      <td>611</td>\n",
       "      <td>5338</td>\n",
       "      <td>Sailing</td>\n",
       "      <td>Sailing</td>\n",
       "      <td>...</td>\n",
       "      <td>0</td>\n",
       "      <td>3</td>\n",
       "      <td>1</td>\n",
       "      <td>4</td>\n",
       "      <td>7</td>\n",
       "      <td>26</td>\n",
       "      <td>Argentina</td>\n",
       "      <td>20619075.0</td>\n",
       "      <td>2.117186e+10</td>\n",
       "      <td>ARG</td>\n",
       "    </tr>\n",
       "    <tr>\n",
       "      <th>3</th>\n",
       "      <td>1960</td>\n",
       "      <td>ITA</td>\n",
       "      <td>Rome</td>\n",
       "      <td>True</td>\n",
       "      <td>False</td>\n",
       "      <td>4727</td>\n",
       "      <td>611</td>\n",
       "      <td>5338</td>\n",
       "      <td>Boxing</td>\n",
       "      <td>Boxing</td>\n",
       "      <td>...</td>\n",
       "      <td>0</td>\n",
       "      <td>3</td>\n",
       "      <td>1</td>\n",
       "      <td>4</td>\n",
       "      <td>7</td>\n",
       "      <td>26</td>\n",
       "      <td>Argentina</td>\n",
       "      <td>20619075.0</td>\n",
       "      <td>2.117186e+10</td>\n",
       "      <td>ARG</td>\n",
       "    </tr>\n",
       "    <tr>\n",
       "      <th>4</th>\n",
       "      <td>1960</td>\n",
       "      <td>ITA</td>\n",
       "      <td>Rome</td>\n",
       "      <td>True</td>\n",
       "      <td>False</td>\n",
       "      <td>4727</td>\n",
       "      <td>611</td>\n",
       "      <td>5338</td>\n",
       "      <td>Swimming</td>\n",
       "      <td>Aquatics</td>\n",
       "      <td>...</td>\n",
       "      <td>10</td>\n",
       "      <td>17</td>\n",
       "      <td>9</td>\n",
       "      <td>36</td>\n",
       "      <td>73</td>\n",
       "      <td>6</td>\n",
       "      <td>Australia</td>\n",
       "      <td>10276477.0</td>\n",
       "      <td>1.859335e+10</td>\n",
       "      <td>AUS</td>\n",
       "    </tr>\n",
       "  </tbody>\n",
       "</table>\n",
       "<p>5 rows × 33 columns</p>\n",
       "</div>"
      ],
      "text/plain": [
       "   Year Host_Country Host_City  Summer  Winter  Total_Males  Total_Females  \\\n",
       "0  1960          ITA      Rome    True   False         4727            611   \n",
       "1  1960          ITA      Rome    True   False         4727            611   \n",
       "2  1960          ITA      Rome    True   False         4727            611   \n",
       "3  1960          ITA      Rome    True   False         4727            611   \n",
       "4  1960          ITA      Rome    True   False         4727            611   \n",
       "\n",
       "   Total_Athletes Discipline     Sport ...  NOC_Gold NOC_Silver  NOC_Bronze  \\\n",
       "0            5338    Sailing   Sailing ...         0          3           1   \n",
       "1            5338    Sailing   Sailing ...         0          3           1   \n",
       "2            5338    Sailing   Sailing ...         0          3           1   \n",
       "3            5338     Boxing    Boxing ...         0          3           1   \n",
       "4            5338   Swimming  Aquatics ...        10         17           9   \n",
       "\n",
       "   NOC_Total_Medals  NOC_Rating  NOC_Rank    Country  Population  \\\n",
       "0                 4           7        26  Argentina  20619075.0   \n",
       "1                 4           7        26  Argentina  20619075.0   \n",
       "2                 4           7        26  Argentina  20619075.0   \n",
       "3                 4           7        26  Argentina  20619075.0   \n",
       "4                36          73         6  Australia  10276477.0   \n",
       "\n",
       "            GDP Code  \n",
       "0  2.117186e+10  ARG  \n",
       "1  2.117186e+10  ARG  \n",
       "2  2.117186e+10  ARG  \n",
       "3  2.117186e+10  ARG  \n",
       "4  1.859335e+10  AUS  \n",
       "\n",
       "[5 rows x 33 columns]"
      ]
     },
     "execution_count": 62,
     "metadata": {},
     "output_type": "execute_result"
    }
   ],
   "source": [
    "df.head(5)"
   ]
  },
  {
   "cell_type": "code",
   "execution_count": 63,
   "metadata": {},
   "outputs": [
    {
     "data": {
      "text/plain": [
       "Index(['Year', 'Host_Country', 'Host_City', 'Summer', 'Winter', 'Total_Males',\n",
       "       'Total_Females', 'Total_Athletes', 'Discipline', 'Sport', 'Ath_Name',\n",
       "       'Gender', 'Home_Adv', 'Gold', 'Silver', 'Bronze', 'Total_Medals',\n",
       "       'Ath_Rating', 'Ath_Rank', 'NOC', 'NOC_Males_Sent', 'NOC_Females_Sent',\n",
       "       'NOC_Total_Sent', 'NOC_Gold', 'NOC_Silver', 'NOC_Bronze',\n",
       "       'NOC_Total_Medals', 'NOC_Rating', 'NOC_Rank', 'Country', 'Population',\n",
       "       'GDP', 'Code'],\n",
       "      dtype='object')"
      ]
     },
     "execution_count": 63,
     "metadata": {},
     "output_type": "execute_result"
    }
   ],
   "source": [
    "df.columns"
   ]
  },
  {
   "cell_type": "markdown",
   "metadata": {},
   "source": [
    "# Re-joining the dfs "
   ]
  },
  {
   "cell_type": "code",
   "execution_count": 64,
   "metadata": {
    "collapsed": true
   },
   "outputs": [],
   "source": [
    "# Setting the indexes of both tables so they are joinable \n",
    "df = df.set_index(['Year', 'Host_City', 'NOC'])\n",
    "Totalsdf = Totalsdf.set_index(['Year', 'Host_City', 'NOC'])\n",
    "# joining both dataFrames only with relevant columns and resetting the index\n",
    "df = df[['Host_Country', 'Summer', 'Winter', 'Total_Males', 'Total_Females', 'NOC_Males_Sent', 'NOC_Females_Sent', 'NOC_Total_Sent', 'Country', 'Population', 'GDP', 'Code']].join(Totalsdf).reset_index()\n",
    "\n",
    "# Dropping indexes and the old index \n",
    "df = df.drop_duplicates().reset_index()\n",
    "df = df.drop(df.columns[[0]], axis=1)"
   ]
  },
  {
   "cell_type": "markdown",
   "metadata": {},
   "source": [
    "# Normalization of GDP \n",
    "We will be using min max normalization to do this. Minmax normalization will take a given GDP value x and apply the following formula to get all the normalised values y for GDP. y = (x - min(x)) / (max(x) - min(x))  "
   ]
  },
  {
   "cell_type": "code",
   "execution_count": 65,
   "metadata": {
    "collapsed": true
   },
   "outputs": [],
   "source": [
    "# min and max values \n",
    "maxGDP = df['GDP'].max()\n",
    "minGDP = df['GDP'].min()"
   ]
  },
  {
   "cell_type": "code",
   "execution_count": 66,
   "metadata": {
    "collapsed": true
   },
   "outputs": [],
   "source": [
    "df['Norm_GDP'] = (df['GDP'] - minGDP) / (maxGDP - minGDP) "
   ]
  },
  {
   "cell_type": "code",
   "execution_count": 67,
   "metadata": {},
   "outputs": [
    {
     "data": {
      "text/html": [
       "<div>\n",
       "<style>\n",
       "    .dataframe thead tr:only-child th {\n",
       "        text-align: right;\n",
       "    }\n",
       "\n",
       "    .dataframe thead th {\n",
       "        text-align: left;\n",
       "    }\n",
       "\n",
       "    .dataframe tbody tr th {\n",
       "        vertical-align: top;\n",
       "    }\n",
       "</style>\n",
       "<table border=\"1\" class=\"dataframe\">\n",
       "  <thead>\n",
       "    <tr style=\"text-align: right;\">\n",
       "      <th></th>\n",
       "      <th>Year</th>\n",
       "      <th>Host_City</th>\n",
       "      <th>NOC</th>\n",
       "      <th>Host_Country</th>\n",
       "      <th>Summer</th>\n",
       "      <th>Winter</th>\n",
       "      <th>Total_Males</th>\n",
       "      <th>Total_Females</th>\n",
       "      <th>NOC_Males_Sent</th>\n",
       "      <th>NOC_Females_Sent</th>\n",
       "      <th>...</th>\n",
       "      <th>N_Total_Gold</th>\n",
       "      <th>N_Total_Medals</th>\n",
       "      <th>N_Total_Rating</th>\n",
       "      <th>G_Total_Gold</th>\n",
       "      <th>G_Total_Medals</th>\n",
       "      <th>G_Total_Rating</th>\n",
       "      <th>Gold_Share</th>\n",
       "      <th>Medal_Share</th>\n",
       "      <th>Rating_Share</th>\n",
       "      <th>Norm_GDP</th>\n",
       "    </tr>\n",
       "  </thead>\n",
       "  <tbody>\n",
       "    <tr>\n",
       "      <th>0</th>\n",
       "      <td>1960</td>\n",
       "      <td>Rome</td>\n",
       "      <td>ARG</td>\n",
       "      <td>ITA</td>\n",
       "      <td>True</td>\n",
       "      <td>False</td>\n",
       "      <td>4727</td>\n",
       "      <td>611</td>\n",
       "      <td>91.0</td>\n",
       "      <td>0.0</td>\n",
       "      <td>...</td>\n",
       "      <td>0</td>\n",
       "      <td>4</td>\n",
       "      <td>7</td>\n",
       "      <td>295</td>\n",
       "      <td>882</td>\n",
       "      <td>1758</td>\n",
       "      <td>0.000000</td>\n",
       "      <td>0.004535</td>\n",
       "      <td>0.003982</td>\n",
       "      <td>0.001132</td>\n",
       "    </tr>\n",
       "    <tr>\n",
       "      <th>1</th>\n",
       "      <td>1960</td>\n",
       "      <td>Rome</td>\n",
       "      <td>AUS</td>\n",
       "      <td>ITA</td>\n",
       "      <td>True</td>\n",
       "      <td>False</td>\n",
       "      <td>4727</td>\n",
       "      <td>611</td>\n",
       "      <td>165.0</td>\n",
       "      <td>29.0</td>\n",
       "      <td>...</td>\n",
       "      <td>10</td>\n",
       "      <td>36</td>\n",
       "      <td>73</td>\n",
       "      <td>295</td>\n",
       "      <td>882</td>\n",
       "      <td>1758</td>\n",
       "      <td>0.033898</td>\n",
       "      <td>0.040816</td>\n",
       "      <td>0.041524</td>\n",
       "      <td>0.000994</td>\n",
       "    </tr>\n",
       "    <tr>\n",
       "      <th>2</th>\n",
       "      <td>1960</td>\n",
       "      <td>Rome</td>\n",
       "      <td>AUT</td>\n",
       "      <td>ITA</td>\n",
       "      <td>True</td>\n",
       "      <td>False</td>\n",
       "      <td>4727</td>\n",
       "      <td>611</td>\n",
       "      <td>83.0</td>\n",
       "      <td>21.0</td>\n",
       "      <td>...</td>\n",
       "      <td>1</td>\n",
       "      <td>3</td>\n",
       "      <td>7</td>\n",
       "      <td>295</td>\n",
       "      <td>882</td>\n",
       "      <td>1758</td>\n",
       "      <td>0.003390</td>\n",
       "      <td>0.003401</td>\n",
       "      <td>0.003982</td>\n",
       "      <td>0.000349</td>\n",
       "    </tr>\n",
       "  </tbody>\n",
       "</table>\n",
       "<p>3 rows × 25 columns</p>\n",
       "</div>"
      ],
      "text/plain": [
       "   Year Host_City  NOC Host_Country  Summer  Winter  Total_Males  \\\n",
       "0  1960      Rome  ARG          ITA    True   False         4727   \n",
       "1  1960      Rome  AUS          ITA    True   False         4727   \n",
       "2  1960      Rome  AUT          ITA    True   False         4727   \n",
       "\n",
       "   Total_Females  NOC_Males_Sent  NOC_Females_Sent    ...     N_Total_Gold  \\\n",
       "0            611            91.0               0.0    ...                0   \n",
       "1            611           165.0              29.0    ...               10   \n",
       "2            611            83.0              21.0    ...                1   \n",
       "\n",
       "  N_Total_Medals  N_Total_Rating  G_Total_Gold G_Total_Medals  G_Total_Rating  \\\n",
       "0              4               7           295            882            1758   \n",
       "1             36              73           295            882            1758   \n",
       "2              3               7           295            882            1758   \n",
       "\n",
       "   Gold_Share  Medal_Share  Rating_Share  Norm_GDP  \n",
       "0    0.000000     0.004535      0.003982  0.001132  \n",
       "1    0.033898     0.040816      0.041524  0.000994  \n",
       "2    0.003390     0.003401      0.003982  0.000349  \n",
       "\n",
       "[3 rows x 25 columns]"
      ]
     },
     "execution_count": 67,
     "metadata": {},
     "output_type": "execute_result"
    }
   ],
   "source": [
    "df.head(3)"
   ]
  },
  {
   "cell_type": "markdown",
   "metadata": {},
   "source": [
    "# Normalization of GDP Per Capita \n",
    "First we'll create a columnfor GDP per capita then we'll normalise the values like we did below. \n",
    "We will be using min max normalization to do this. Minmax normalization will take a given GDP Per Capita value x and apply the following formula to get all the normalised values y for GDP Per Capita. y = (x - min(x)) / (max(x) - min(x))  "
   ]
  },
  {
   "cell_type": "code",
   "execution_count": 68,
   "metadata": {
    "collapsed": true
   },
   "outputs": [],
   "source": [
    "# GDP per capita \n",
    "df['GDP_PerCapita'] = df['GDP'] / df['Population']"
   ]
  },
  {
   "cell_type": "code",
   "execution_count": 69,
   "metadata": {
    "collapsed": true
   },
   "outputs": [],
   "source": [
    "# min and max values \n",
    "maxGDPPC = df['GDP_PerCapita'].max()\n",
    "minGDPPC = df['GDP_PerCapita'].min()"
   ]
  },
  {
   "cell_type": "code",
   "execution_count": 70,
   "metadata": {
    "collapsed": true
   },
   "outputs": [],
   "source": [
    "df['Norm_GDPPC'] = (df['GDP_PerCapita'] - minGDPPC) / (maxGDPPC - minGDPPC) "
   ]
  },
  {
   "cell_type": "code",
   "execution_count": 71,
   "metadata": {},
   "outputs": [
    {
     "data": {
      "text/html": [
       "<div>\n",
       "<style>\n",
       "    .dataframe thead tr:only-child th {\n",
       "        text-align: right;\n",
       "    }\n",
       "\n",
       "    .dataframe thead th {\n",
       "        text-align: left;\n",
       "    }\n",
       "\n",
       "    .dataframe tbody tr th {\n",
       "        vertical-align: top;\n",
       "    }\n",
       "</style>\n",
       "<table border=\"1\" class=\"dataframe\">\n",
       "  <thead>\n",
       "    <tr style=\"text-align: right;\">\n",
       "      <th></th>\n",
       "      <th>Year</th>\n",
       "      <th>Host_City</th>\n",
       "      <th>NOC</th>\n",
       "      <th>Host_Country</th>\n",
       "      <th>Summer</th>\n",
       "      <th>Winter</th>\n",
       "      <th>Total_Males</th>\n",
       "      <th>Total_Females</th>\n",
       "      <th>NOC_Males_Sent</th>\n",
       "      <th>NOC_Females_Sent</th>\n",
       "      <th>...</th>\n",
       "      <th>N_Total_Rating</th>\n",
       "      <th>G_Total_Gold</th>\n",
       "      <th>G_Total_Medals</th>\n",
       "      <th>G_Total_Rating</th>\n",
       "      <th>Gold_Share</th>\n",
       "      <th>Medal_Share</th>\n",
       "      <th>Rating_Share</th>\n",
       "      <th>Norm_GDP</th>\n",
       "      <th>GDP_PerCapita</th>\n",
       "      <th>Norm_GDPPC</th>\n",
       "    </tr>\n",
       "  </thead>\n",
       "  <tbody>\n",
       "    <tr>\n",
       "      <th>0</th>\n",
       "      <td>1960</td>\n",
       "      <td>Rome</td>\n",
       "      <td>ARG</td>\n",
       "      <td>ITA</td>\n",
       "      <td>True</td>\n",
       "      <td>False</td>\n",
       "      <td>4727</td>\n",
       "      <td>611</td>\n",
       "      <td>91.0</td>\n",
       "      <td>0.0</td>\n",
       "      <td>...</td>\n",
       "      <td>7</td>\n",
       "      <td>295</td>\n",
       "      <td>882</td>\n",
       "      <td>1758</td>\n",
       "      <td>0.000000</td>\n",
       "      <td>0.004535</td>\n",
       "      <td>0.003982</td>\n",
       "      <td>0.001132</td>\n",
       "      <td>1026.809259</td>\n",
       "      <td>0.009964</td>\n",
       "    </tr>\n",
       "    <tr>\n",
       "      <th>1</th>\n",
       "      <td>1960</td>\n",
       "      <td>Rome</td>\n",
       "      <td>AUS</td>\n",
       "      <td>ITA</td>\n",
       "      <td>True</td>\n",
       "      <td>False</td>\n",
       "      <td>4727</td>\n",
       "      <td>611</td>\n",
       "      <td>165.0</td>\n",
       "      <td>29.0</td>\n",
       "      <td>...</td>\n",
       "      <td>73</td>\n",
       "      <td>295</td>\n",
       "      <td>882</td>\n",
       "      <td>1758</td>\n",
       "      <td>0.033898</td>\n",
       "      <td>0.040816</td>\n",
       "      <td>0.041524</td>\n",
       "      <td>0.000994</td>\n",
       "      <td>1809.311452</td>\n",
       "      <td>0.017662</td>\n",
       "    </tr>\n",
       "    <tr>\n",
       "      <th>2</th>\n",
       "      <td>1960</td>\n",
       "      <td>Rome</td>\n",
       "      <td>AUT</td>\n",
       "      <td>ITA</td>\n",
       "      <td>True</td>\n",
       "      <td>False</td>\n",
       "      <td>4727</td>\n",
       "      <td>611</td>\n",
       "      <td>83.0</td>\n",
       "      <td>21.0</td>\n",
       "      <td>...</td>\n",
       "      <td>7</td>\n",
       "      <td>295</td>\n",
       "      <td>882</td>\n",
       "      <td>1758</td>\n",
       "      <td>0.003390</td>\n",
       "      <td>0.003401</td>\n",
       "      <td>0.003982</td>\n",
       "      <td>0.000349</td>\n",
       "      <td>935.460427</td>\n",
       "      <td>0.009065</td>\n",
       "    </tr>\n",
       "  </tbody>\n",
       "</table>\n",
       "<p>3 rows × 27 columns</p>\n",
       "</div>"
      ],
      "text/plain": [
       "   Year Host_City  NOC Host_Country  Summer  Winter  Total_Males  \\\n",
       "0  1960      Rome  ARG          ITA    True   False         4727   \n",
       "1  1960      Rome  AUS          ITA    True   False         4727   \n",
       "2  1960      Rome  AUT          ITA    True   False         4727   \n",
       "\n",
       "   Total_Females  NOC_Males_Sent  NOC_Females_Sent     ...      \\\n",
       "0            611            91.0               0.0     ...       \n",
       "1            611           165.0              29.0     ...       \n",
       "2            611            83.0              21.0     ...       \n",
       "\n",
       "   N_Total_Rating G_Total_Gold  G_Total_Medals  G_Total_Rating Gold_Share  \\\n",
       "0               7          295             882            1758   0.000000   \n",
       "1              73          295             882            1758   0.033898   \n",
       "2               7          295             882            1758   0.003390   \n",
       "\n",
       "   Medal_Share  Rating_Share  Norm_GDP  GDP_PerCapita  Norm_GDPPC  \n",
       "0     0.004535      0.003982  0.001132    1026.809259    0.009964  \n",
       "1     0.040816      0.041524  0.000994    1809.311452    0.017662  \n",
       "2     0.003401      0.003982  0.000349     935.460427    0.009065  \n",
       "\n",
       "[3 rows x 27 columns]"
      ]
     },
     "execution_count": 71,
     "metadata": {},
     "output_type": "execute_result"
    }
   ],
   "source": [
    "df.head(3)"
   ]
  },
  {
   "cell_type": "markdown",
   "metadata": {},
   "source": [
    "# Normalization of Gold Share\n",
    "We will be using min max normalization to do this. Minmax normalization will take each give value of Gold share x and apply the following formula to get all the normalised values y for the Gold Share. y = (x - min(x)) / (max(x) - min(x))  "
   ]
  },
  {
   "cell_type": "code",
   "execution_count": 72,
   "metadata": {
    "collapsed": true
   },
   "outputs": [],
   "source": [
    "# min and max values \n",
    "maxGold = df['Gold_Share'].max()\n",
    "minGold = df['Gold_Share'].min()"
   ]
  },
  {
   "cell_type": "code",
   "execution_count": 73,
   "metadata": {
    "collapsed": true
   },
   "outputs": [],
   "source": [
    "df['Norm_Gold_Share'] = (df['Gold_Share'] - minGold) / (maxGold - minGold) "
   ]
  },
  {
   "cell_type": "code",
   "execution_count": 74,
   "metadata": {},
   "outputs": [
    {
     "data": {
      "text/html": [
       "<div>\n",
       "<style>\n",
       "    .dataframe thead tr:only-child th {\n",
       "        text-align: right;\n",
       "    }\n",
       "\n",
       "    .dataframe thead th {\n",
       "        text-align: left;\n",
       "    }\n",
       "\n",
       "    .dataframe tbody tr th {\n",
       "        vertical-align: top;\n",
       "    }\n",
       "</style>\n",
       "<table border=\"1\" class=\"dataframe\">\n",
       "  <thead>\n",
       "    <tr style=\"text-align: right;\">\n",
       "      <th></th>\n",
       "      <th>Year</th>\n",
       "      <th>Host_City</th>\n",
       "      <th>NOC</th>\n",
       "      <th>Host_Country</th>\n",
       "      <th>Summer</th>\n",
       "      <th>Winter</th>\n",
       "      <th>Total_Males</th>\n",
       "      <th>Total_Females</th>\n",
       "      <th>NOC_Males_Sent</th>\n",
       "      <th>NOC_Females_Sent</th>\n",
       "      <th>...</th>\n",
       "      <th>G_Total_Gold</th>\n",
       "      <th>G_Total_Medals</th>\n",
       "      <th>G_Total_Rating</th>\n",
       "      <th>Gold_Share</th>\n",
       "      <th>Medal_Share</th>\n",
       "      <th>Rating_Share</th>\n",
       "      <th>Norm_GDP</th>\n",
       "      <th>GDP_PerCapita</th>\n",
       "      <th>Norm_GDPPC</th>\n",
       "      <th>Norm_Gold_Share</th>\n",
       "    </tr>\n",
       "  </thead>\n",
       "  <tbody>\n",
       "    <tr>\n",
       "      <th>0</th>\n",
       "      <td>1960</td>\n",
       "      <td>Rome</td>\n",
       "      <td>ARG</td>\n",
       "      <td>ITA</td>\n",
       "      <td>True</td>\n",
       "      <td>False</td>\n",
       "      <td>4727</td>\n",
       "      <td>611</td>\n",
       "      <td>91.0</td>\n",
       "      <td>0.0</td>\n",
       "      <td>...</td>\n",
       "      <td>295</td>\n",
       "      <td>882</td>\n",
       "      <td>1758</td>\n",
       "      <td>0.000000</td>\n",
       "      <td>0.004535</td>\n",
       "      <td>0.003982</td>\n",
       "      <td>0.001132</td>\n",
       "      <td>1026.809259</td>\n",
       "      <td>0.009964</td>\n",
       "      <td>0.000000</td>\n",
       "    </tr>\n",
       "    <tr>\n",
       "      <th>1</th>\n",
       "      <td>1960</td>\n",
       "      <td>Rome</td>\n",
       "      <td>AUS</td>\n",
       "      <td>ITA</td>\n",
       "      <td>True</td>\n",
       "      <td>False</td>\n",
       "      <td>4727</td>\n",
       "      <td>611</td>\n",
       "      <td>165.0</td>\n",
       "      <td>29.0</td>\n",
       "      <td>...</td>\n",
       "      <td>295</td>\n",
       "      <td>882</td>\n",
       "      <td>1758</td>\n",
       "      <td>0.033898</td>\n",
       "      <td>0.040816</td>\n",
       "      <td>0.041524</td>\n",
       "      <td>0.000994</td>\n",
       "      <td>1809.311452</td>\n",
       "      <td>0.017662</td>\n",
       "      <td>0.062444</td>\n",
       "    </tr>\n",
       "    <tr>\n",
       "      <th>2</th>\n",
       "      <td>1960</td>\n",
       "      <td>Rome</td>\n",
       "      <td>AUT</td>\n",
       "      <td>ITA</td>\n",
       "      <td>True</td>\n",
       "      <td>False</td>\n",
       "      <td>4727</td>\n",
       "      <td>611</td>\n",
       "      <td>83.0</td>\n",
       "      <td>21.0</td>\n",
       "      <td>...</td>\n",
       "      <td>295</td>\n",
       "      <td>882</td>\n",
       "      <td>1758</td>\n",
       "      <td>0.003390</td>\n",
       "      <td>0.003401</td>\n",
       "      <td>0.003982</td>\n",
       "      <td>0.000349</td>\n",
       "      <td>935.460427</td>\n",
       "      <td>0.009065</td>\n",
       "      <td>0.006244</td>\n",
       "    </tr>\n",
       "  </tbody>\n",
       "</table>\n",
       "<p>3 rows × 28 columns</p>\n",
       "</div>"
      ],
      "text/plain": [
       "   Year Host_City  NOC Host_Country  Summer  Winter  Total_Males  \\\n",
       "0  1960      Rome  ARG          ITA    True   False         4727   \n",
       "1  1960      Rome  AUS          ITA    True   False         4727   \n",
       "2  1960      Rome  AUT          ITA    True   False         4727   \n",
       "\n",
       "   Total_Females  NOC_Males_Sent  NOC_Females_Sent       ...         \\\n",
       "0            611            91.0               0.0       ...          \n",
       "1            611           165.0              29.0       ...          \n",
       "2            611            83.0              21.0       ...          \n",
       "\n",
       "   G_Total_Gold G_Total_Medals  G_Total_Rating  Gold_Share Medal_Share  \\\n",
       "0           295            882            1758    0.000000    0.004535   \n",
       "1           295            882            1758    0.033898    0.040816   \n",
       "2           295            882            1758    0.003390    0.003401   \n",
       "\n",
       "   Rating_Share  Norm_GDP  GDP_PerCapita  Norm_GDPPC  Norm_Gold_Share  \n",
       "0      0.003982  0.001132    1026.809259    0.009964         0.000000  \n",
       "1      0.041524  0.000994    1809.311452    0.017662         0.062444  \n",
       "2      0.003982  0.000349     935.460427    0.009065         0.006244  \n",
       "\n",
       "[3 rows x 28 columns]"
      ]
     },
     "execution_count": 74,
     "metadata": {},
     "output_type": "execute_result"
    }
   ],
   "source": [
    "df.head(3)"
   ]
  },
  {
   "cell_type": "markdown",
   "metadata": {},
   "source": [
    "# Normalization of Total Medal Share\n",
    "We will be using min max normalization to do this. Minmax normalization will take each give value of Total Medal share x and apply the following formula to get all the normalised values y for the Total Medal Share. y = (x - min(x)) / (max(x) - min(x))  "
   ]
  },
  {
   "cell_type": "code",
   "execution_count": 75,
   "metadata": {
    "collapsed": true
   },
   "outputs": [],
   "source": [
    "# min and max values \n",
    "maxTMedal = df['Medal_Share'].max()\n",
    "minTMedal = df['Medal_Share'].min()"
   ]
  },
  {
   "cell_type": "code",
   "execution_count": 76,
   "metadata": {
    "collapsed": true
   },
   "outputs": [],
   "source": [
    "df['Norm_Total_Medal_Share'] = (df['Medal_Share'] - minTMedal) / (maxTMedal - minTMedal) "
   ]
  },
  {
   "cell_type": "code",
   "execution_count": 77,
   "metadata": {},
   "outputs": [
    {
     "data": {
      "text/html": [
       "<div>\n",
       "<style>\n",
       "    .dataframe thead tr:only-child th {\n",
       "        text-align: right;\n",
       "    }\n",
       "\n",
       "    .dataframe thead th {\n",
       "        text-align: left;\n",
       "    }\n",
       "\n",
       "    .dataframe tbody tr th {\n",
       "        vertical-align: top;\n",
       "    }\n",
       "</style>\n",
       "<table border=\"1\" class=\"dataframe\">\n",
       "  <thead>\n",
       "    <tr style=\"text-align: right;\">\n",
       "      <th></th>\n",
       "      <th>Year</th>\n",
       "      <th>Host_City</th>\n",
       "      <th>NOC</th>\n",
       "      <th>Host_Country</th>\n",
       "      <th>Summer</th>\n",
       "      <th>Winter</th>\n",
       "      <th>Total_Males</th>\n",
       "      <th>Total_Females</th>\n",
       "      <th>NOC_Males_Sent</th>\n",
       "      <th>NOC_Females_Sent</th>\n",
       "      <th>...</th>\n",
       "      <th>G_Total_Medals</th>\n",
       "      <th>G_Total_Rating</th>\n",
       "      <th>Gold_Share</th>\n",
       "      <th>Medal_Share</th>\n",
       "      <th>Rating_Share</th>\n",
       "      <th>Norm_GDP</th>\n",
       "      <th>GDP_PerCapita</th>\n",
       "      <th>Norm_GDPPC</th>\n",
       "      <th>Norm_Gold_Share</th>\n",
       "      <th>Norm_Total_Medal_Share</th>\n",
       "    </tr>\n",
       "  </thead>\n",
       "  <tbody>\n",
       "    <tr>\n",
       "      <th>0</th>\n",
       "      <td>1960</td>\n",
       "      <td>Rome</td>\n",
       "      <td>ARG</td>\n",
       "      <td>ITA</td>\n",
       "      <td>True</td>\n",
       "      <td>False</td>\n",
       "      <td>4727</td>\n",
       "      <td>611</td>\n",
       "      <td>91.0</td>\n",
       "      <td>0.0</td>\n",
       "      <td>...</td>\n",
       "      <td>882</td>\n",
       "      <td>1758</td>\n",
       "      <td>0.000000</td>\n",
       "      <td>0.004535</td>\n",
       "      <td>0.003982</td>\n",
       "      <td>0.001132</td>\n",
       "      <td>1026.809259</td>\n",
       "      <td>0.009964</td>\n",
       "      <td>0.000000</td>\n",
       "      <td>0.012845</td>\n",
       "    </tr>\n",
       "    <tr>\n",
       "      <th>1</th>\n",
       "      <td>1960</td>\n",
       "      <td>Rome</td>\n",
       "      <td>AUS</td>\n",
       "      <td>ITA</td>\n",
       "      <td>True</td>\n",
       "      <td>False</td>\n",
       "      <td>4727</td>\n",
       "      <td>611</td>\n",
       "      <td>165.0</td>\n",
       "      <td>29.0</td>\n",
       "      <td>...</td>\n",
       "      <td>882</td>\n",
       "      <td>1758</td>\n",
       "      <td>0.033898</td>\n",
       "      <td>0.040816</td>\n",
       "      <td>0.041524</td>\n",
       "      <td>0.000994</td>\n",
       "      <td>1809.311452</td>\n",
       "      <td>0.017662</td>\n",
       "      <td>0.062444</td>\n",
       "      <td>0.128069</td>\n",
       "    </tr>\n",
       "    <tr>\n",
       "      <th>2</th>\n",
       "      <td>1960</td>\n",
       "      <td>Rome</td>\n",
       "      <td>AUT</td>\n",
       "      <td>ITA</td>\n",
       "      <td>True</td>\n",
       "      <td>False</td>\n",
       "      <td>4727</td>\n",
       "      <td>611</td>\n",
       "      <td>83.0</td>\n",
       "      <td>21.0</td>\n",
       "      <td>...</td>\n",
       "      <td>882</td>\n",
       "      <td>1758</td>\n",
       "      <td>0.003390</td>\n",
       "      <td>0.003401</td>\n",
       "      <td>0.003982</td>\n",
       "      <td>0.000349</td>\n",
       "      <td>935.460427</td>\n",
       "      <td>0.009065</td>\n",
       "      <td>0.006244</td>\n",
       "      <td>0.009245</td>\n",
       "    </tr>\n",
       "  </tbody>\n",
       "</table>\n",
       "<p>3 rows × 29 columns</p>\n",
       "</div>"
      ],
      "text/plain": [
       "   Year Host_City  NOC Host_Country  Summer  Winter  Total_Males  \\\n",
       "0  1960      Rome  ARG          ITA    True   False         4727   \n",
       "1  1960      Rome  AUS          ITA    True   False         4727   \n",
       "2  1960      Rome  AUT          ITA    True   False         4727   \n",
       "\n",
       "   Total_Females  NOC_Males_Sent  NOC_Females_Sent           ...            \\\n",
       "0            611            91.0               0.0           ...             \n",
       "1            611           165.0              29.0           ...             \n",
       "2            611            83.0              21.0           ...             \n",
       "\n",
       "   G_Total_Medals G_Total_Rating  Gold_Share  Medal_Share Rating_Share  \\\n",
       "0             882           1758    0.000000     0.004535     0.003982   \n",
       "1             882           1758    0.033898     0.040816     0.041524   \n",
       "2             882           1758    0.003390     0.003401     0.003982   \n",
       "\n",
       "   Norm_GDP  GDP_PerCapita  Norm_GDPPC  Norm_Gold_Share  \\\n",
       "0  0.001132    1026.809259    0.009964         0.000000   \n",
       "1  0.000994    1809.311452    0.017662         0.062444   \n",
       "2  0.000349     935.460427    0.009065         0.006244   \n",
       "\n",
       "   Norm_Total_Medal_Share  \n",
       "0                0.012845  \n",
       "1                0.128069  \n",
       "2                0.009245  \n",
       "\n",
       "[3 rows x 29 columns]"
      ]
     },
     "execution_count": 77,
     "metadata": {},
     "output_type": "execute_result"
    }
   ],
   "source": [
    "df.head(3)"
   ]
  },
  {
   "cell_type": "markdown",
   "metadata": {},
   "source": [
    "# Normalization of Total Rating Share\n",
    "We will be using min max normalization to do this. Minmax normalization will take each give value of Total Rating share x and apply the following formula to get all the normalised values y for the Total Rating Share. y = (x - min(x)) / (max(x) - min(x)) "
   ]
  },
  {
   "cell_type": "code",
   "execution_count": 78,
   "metadata": {
    "collapsed": true
   },
   "outputs": [],
   "source": [
    "# min and max values \n",
    "maxTRate = df['Rating_Share'].max()\n",
    "minTRate = df['Rating_Share'].min()"
   ]
  },
  {
   "cell_type": "code",
   "execution_count": 79,
   "metadata": {
    "collapsed": true
   },
   "outputs": [],
   "source": [
    "df['Norm_Rating_Share'] = (df['Rating_Share'] - minTRate) / (maxTRate - minTRate) "
   ]
  },
  {
   "cell_type": "code",
   "execution_count": 80,
   "metadata": {},
   "outputs": [
    {
     "data": {
      "text/html": [
       "<div>\n",
       "<style>\n",
       "    .dataframe thead tr:only-child th {\n",
       "        text-align: right;\n",
       "    }\n",
       "\n",
       "    .dataframe thead th {\n",
       "        text-align: left;\n",
       "    }\n",
       "\n",
       "    .dataframe tbody tr th {\n",
       "        vertical-align: top;\n",
       "    }\n",
       "</style>\n",
       "<table border=\"1\" class=\"dataframe\">\n",
       "  <thead>\n",
       "    <tr style=\"text-align: right;\">\n",
       "      <th></th>\n",
       "      <th>Year</th>\n",
       "      <th>Host_City</th>\n",
       "      <th>NOC</th>\n",
       "      <th>Host_Country</th>\n",
       "      <th>Summer</th>\n",
       "      <th>Winter</th>\n",
       "      <th>Total_Males</th>\n",
       "      <th>Total_Females</th>\n",
       "      <th>NOC_Males_Sent</th>\n",
       "      <th>NOC_Females_Sent</th>\n",
       "      <th>...</th>\n",
       "      <th>G_Total_Rating</th>\n",
       "      <th>Gold_Share</th>\n",
       "      <th>Medal_Share</th>\n",
       "      <th>Rating_Share</th>\n",
       "      <th>Norm_GDP</th>\n",
       "      <th>GDP_PerCapita</th>\n",
       "      <th>Norm_GDPPC</th>\n",
       "      <th>Norm_Gold_Share</th>\n",
       "      <th>Norm_Total_Medal_Share</th>\n",
       "      <th>Norm_Rating_Share</th>\n",
       "    </tr>\n",
       "  </thead>\n",
       "  <tbody>\n",
       "    <tr>\n",
       "      <th>0</th>\n",
       "      <td>1960</td>\n",
       "      <td>Rome</td>\n",
       "      <td>ARG</td>\n",
       "      <td>ITA</td>\n",
       "      <td>True</td>\n",
       "      <td>False</td>\n",
       "      <td>4727</td>\n",
       "      <td>611</td>\n",
       "      <td>91.0</td>\n",
       "      <td>0.0</td>\n",
       "      <td>...</td>\n",
       "      <td>1758</td>\n",
       "      <td>0.000000</td>\n",
       "      <td>0.004535</td>\n",
       "      <td>0.003982</td>\n",
       "      <td>0.001132</td>\n",
       "      <td>1026.809259</td>\n",
       "      <td>0.009964</td>\n",
       "      <td>0.000000</td>\n",
       "      <td>0.012845</td>\n",
       "      <td>0.010977</td>\n",
       "    </tr>\n",
       "    <tr>\n",
       "      <th>1</th>\n",
       "      <td>1960</td>\n",
       "      <td>Rome</td>\n",
       "      <td>AUS</td>\n",
       "      <td>ITA</td>\n",
       "      <td>True</td>\n",
       "      <td>False</td>\n",
       "      <td>4727</td>\n",
       "      <td>611</td>\n",
       "      <td>165.0</td>\n",
       "      <td>29.0</td>\n",
       "      <td>...</td>\n",
       "      <td>1758</td>\n",
       "      <td>0.033898</td>\n",
       "      <td>0.040816</td>\n",
       "      <td>0.041524</td>\n",
       "      <td>0.000994</td>\n",
       "      <td>1809.311452</td>\n",
       "      <td>0.017662</td>\n",
       "      <td>0.062444</td>\n",
       "      <td>0.128069</td>\n",
       "      <td>0.121344</td>\n",
       "    </tr>\n",
       "    <tr>\n",
       "      <th>2</th>\n",
       "      <td>1960</td>\n",
       "      <td>Rome</td>\n",
       "      <td>AUT</td>\n",
       "      <td>ITA</td>\n",
       "      <td>True</td>\n",
       "      <td>False</td>\n",
       "      <td>4727</td>\n",
       "      <td>611</td>\n",
       "      <td>83.0</td>\n",
       "      <td>21.0</td>\n",
       "      <td>...</td>\n",
       "      <td>1758</td>\n",
       "      <td>0.003390</td>\n",
       "      <td>0.003401</td>\n",
       "      <td>0.003982</td>\n",
       "      <td>0.000349</td>\n",
       "      <td>935.460427</td>\n",
       "      <td>0.009065</td>\n",
       "      <td>0.006244</td>\n",
       "      <td>0.009245</td>\n",
       "      <td>0.010977</td>\n",
       "    </tr>\n",
       "  </tbody>\n",
       "</table>\n",
       "<p>3 rows × 30 columns</p>\n",
       "</div>"
      ],
      "text/plain": [
       "   Year Host_City  NOC Host_Country  Summer  Winter  Total_Males  \\\n",
       "0  1960      Rome  ARG          ITA    True   False         4727   \n",
       "1  1960      Rome  AUS          ITA    True   False         4727   \n",
       "2  1960      Rome  AUT          ITA    True   False         4727   \n",
       "\n",
       "   Total_Females  NOC_Males_Sent  NOC_Females_Sent        ...          \\\n",
       "0            611            91.0               0.0        ...           \n",
       "1            611           165.0              29.0        ...           \n",
       "2            611            83.0              21.0        ...           \n",
       "\n",
       "   G_Total_Rating Gold_Share  Medal_Share  Rating_Share  Norm_GDP  \\\n",
       "0            1758   0.000000     0.004535      0.003982  0.001132   \n",
       "1            1758   0.033898     0.040816      0.041524  0.000994   \n",
       "2            1758   0.003390     0.003401      0.003982  0.000349   \n",
       "\n",
       "   GDP_PerCapita  Norm_GDPPC  Norm_Gold_Share  Norm_Total_Medal_Share  \\\n",
       "0    1026.809259    0.009964         0.000000                0.012845   \n",
       "1    1809.311452    0.017662         0.062444                0.128069   \n",
       "2     935.460427    0.009065         0.006244                0.009245   \n",
       "\n",
       "   Norm_Rating_Share  \n",
       "0           0.010977  \n",
       "1           0.121344  \n",
       "2           0.010977  \n",
       "\n",
       "[3 rows x 30 columns]"
      ]
     },
     "execution_count": 80,
     "metadata": {},
     "output_type": "execute_result"
    }
   ],
   "source": [
    "df.head(3)"
   ]
  },
  {
   "cell_type": "markdown",
   "metadata": {},
   "source": [
    "# A few Quick Visualisations "
   ]
  },
  {
   "cell_type": "code",
   "execution_count": 81,
   "metadata": {},
   "outputs": [
    {
     "data": {
      "text/plain": [
       "<matplotlib.collections.PathCollection at 0x21bace2d3c8>"
      ]
     },
     "execution_count": 81,
     "metadata": {},
     "output_type": "execute_result"
    },
    {
     "data": {
      "image/png": "[encoded data removed]",
      "text/plain": [
       "<matplotlib.figure.Figure at 0x21bac29d7b8>"
      ]
     },
     "metadata": {},
     "output_type": "display_data"
    }
   ],
   "source": [
    "plt.scatter(df.Norm_Gold_Share, df.Norm_GDP)"
   ]
  },
  {
   "cell_type": "code",
   "execution_count": 82,
   "metadata": {},
   "outputs": [
    {
     "data": {
      "text/plain": [
       "<matplotlib.collections.PathCollection at 0x21bacfac470>"
      ]
     },
     "execution_count": 82,
     "metadata": {},
     "output_type": "execute_result"
    },
    {
     "data": {
      "image/png": "[encoded data removed]",
      "text/plain": [
       "<matplotlib.figure.Figure at 0x21bac29d278>"
      ]
     },
     "metadata": {},
     "output_type": "display_data"
    }
   ],
   "source": [
    "plt.scatter(df.Norm_Total_Medal_Share, df.Norm_GDP)"
   ]
  },
  {
   "cell_type": "code",
   "execution_count": 83,
   "metadata": {},
   "outputs": [
    {
     "data": {
      "text/plain": [
       "<matplotlib.collections.PathCollection at 0x21bad9c1f98>"
      ]
     },
     "execution_count": 83,
     "metadata": {},
     "output_type": "execute_result"
    },
    {
     "data": {
      "image/png": "[encoded data removed]",
      "text/plain": [
       "<matplotlib.figure.Figure at 0x21bacf92550>"
      ]
     },
     "metadata": {},
     "output_type": "display_data"
    }
   ],
   "source": [
    "plt.scatter(df.Norm_Rating_Share, df.Norm_GDP)"
   ]
  },
  {
   "cell_type": "markdown",
   "metadata": {},
   "source": [
    "# GDP PER CAPITA"
   ]
  },
  {
   "cell_type": "code",
   "execution_count": 84,
   "metadata": {},
   "outputs": [
    {
     "data": {
      "text/plain": [
       "<matplotlib.collections.PathCollection at 0x21bada20b00>"
      ]
     },
     "execution_count": 84,
     "metadata": {},
     "output_type": "execute_result"
    },
    {
     "data": {
      "image/png": "[encoded data removed]",
      "text/plain": [
       "<matplotlib.figure.Figure at 0x21bad9a6400>"
      ]
     },
     "metadata": {},
     "output_type": "display_data"
    }
   ],
   "source": [
    "plt.scatter(df.Norm_Gold_Share, df.Norm_GDPPC)"
   ]
  },
  {
   "cell_type": "code",
   "execution_count": 85,
   "metadata": {},
   "outputs": [
    {
     "data": {
      "text/plain": [
       "<matplotlib.collections.PathCollection at 0x21bada638d0>"
      ]
     },
     "execution_count": 85,
     "metadata": {},
     "output_type": "execute_result"
    },
    {
     "data": {
      "image/png": "[encoded data removed]",
      "text/plain": [
       "<matplotlib.figure.Figure at 0x21bada36a20>"
      ]
     },
     "metadata": {},
     "output_type": "display_data"
    }
   ],
   "source": [
    "plt.scatter(df.Norm_Total_Medal_Share, df.Norm_GDPPC)"
   ]
  },
  {
   "cell_type": "code",
   "execution_count": 86,
   "metadata": {},
   "outputs": [
    {
     "data": {
      "text/plain": [
       "<matplotlib.collections.PathCollection at 0x21bac2c9470>"
      ]
     },
     "execution_count": 86,
     "metadata": {},
     "output_type": "execute_result"
    },
    {
     "data": {
      "image/png": "[encoded data removed]",
      "text/plain": [
       "<matplotlib.figure.Figure at 0x21bada56080>"
      ]
     },
     "metadata": {},
     "output_type": "display_data"
    }
   ],
   "source": [
    "plt.scatter(df.Norm_Rating_Share, df.Norm_GDPPC)"
   ]
  },
  {
   "cell_type": "code",
   "execution_count": 87,
   "metadata": {
    "collapsed": true
   },
   "outputs": [],
   "source": [
    "# Some random null values showed up not quite sure why \n",
    "df = df[~df['GDP'].isnull()]"
   ]
  },
  {
   "cell_type": "code",
   "execution_count": 88,
   "metadata": {
    "collapsed": true
   },
   "outputs": [],
   "source": [
    "df.to_csv(r\"..\\..\\data\\final\\gdp.csv\", index=False)"
   ]
  }
 ],
 "metadata": {
  "kernelspec": {
   "display_name": "Python 3",
   "language": "python",
   "name": "python3"
  },
  "language_info": {
   "codemirror_mode": {
    "name": "ipython",
    "version": 3
   },
   "file_extension": ".py",
   "mimetype": "text/x-python",
   "name": "python",
   "nbconvert_exporter": "python",
   "pygments_lexer": "ipython3",
   "version": "3.6.3"
  }
 },
 "nbformat": 4,
 "nbformat_minor": 2
}
