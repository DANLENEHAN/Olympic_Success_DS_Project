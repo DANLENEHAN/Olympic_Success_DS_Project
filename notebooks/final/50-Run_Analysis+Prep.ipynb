{
 "cells": [
  {
   "cell_type": "markdown",
   "metadata": {},
   "source": [
    "# Executes the Analysis and Prep"
   ]
  },
  {
   "cell_type": "code",
   "execution_count": 4,
   "metadata": {},
   "outputs": [],
   "source": [
    "def runAnalysis():\n",
    "    %run ../analysis/100-Network_Analysis-Podiums.ipynb \n",
    "    %run ../analysis/150-Network_Analysis-Competitiveness.ipynb\n",
    "    %run ../analysis/200-Population.ipynb\n",
    "    %run ../analysis/250-Population-CSV.ipynb\n",
    "    %run ../analysis/275_Pop_Prep.ipynb\n",
    "    %run ../analysis/300_GDP_Prep.ipynb\n",
    "    %run ../analysis/350_RQ1_GDP.ipynb\n",
    "    %run ../analysis/375_RQ1_GDP-Short.ipynb\n",
    "    %run ../analysis/400_RQ2_Pop_Short.ipynb\n",
    "    %run ../analysis/500-Education.ipynb\n",
    "    %run ../analysis/600-Elevation.ipynb"
   ]
  },
  {
   "cell_type": "code",
   "execution_count": 5,
   "metadata": {
    "collapsed": true
   },
   "outputs": [],
   "source": [
    "def runPrep():\n",
    "    %capture\n",
    "    %run  ../prep/200-Country_Preperation-Final.ipynb\n",
    "    %run ../prep/250-Removing_All_Countries_Without_Medals.ipynb\n",
    "    %run ../prep/275-GDP_Null_Values.ipynb\n",
    "    %run ../prep/300-Geographical_Nulls.ipynb\n",
    "    %run ../prep/325-Get_Elevation_Range.ipynb\n",
    "    %run ../prep/350-Education_Index.ipynb\n",
    "    %run ../prep/400-Other_Olympic_Teams.ipynb\n",
    "    %run ../prep/500-Olympic_Medals_DF.ipynb\n",
    "    %run ../prep/600-Olympic_Athlete_Numbers.ipynb\n",
    "    %run ../prep/700-Olympic_Medals_and_Athlete_Numbers_DF.ipynb\n",
    "    %run ../prep/800-Olympic_NOC_Rankings.ipynb\n",
    "    %run ../prep/900-Olympic_Athlete_Rankings.ipynb\n",
    "    %run ../prep/950-Final_Medal_DataFrame.ipynb\n",
    "    %run ../prep/1000-Joining"
   ]
  },
  {
   "cell_type": "code",
   "execution_count": null,
   "metadata": {},
   "outputs": [],
   "source": [
    "%%capture\n",
    "runPrep()\n",
    "runAnalysis()"
   ]
  },
  {
   "cell_type": "code",
   "execution_count": null,
   "metadata": {
    "collapsed": true
   },
   "outputs": [],
   "source": []
  }
 ],
 "metadata": {
  "kernelspec": {
   "display_name": "Python 3",
   "language": "python",
   "name": "python3"
  },
  "language_info": {
   "codemirror_mode": {
    "name": "ipython",
    "version": 3
   },
   "file_extension": ".py",
   "mimetype": "text/x-python",
   "name": "python",
   "nbconvert_exporter": "python",
   "pygments_lexer": "ipython3",
   "version": "3.6.3"
  }
 },
 "nbformat": 4,
 "nbformat_minor": 2
}
