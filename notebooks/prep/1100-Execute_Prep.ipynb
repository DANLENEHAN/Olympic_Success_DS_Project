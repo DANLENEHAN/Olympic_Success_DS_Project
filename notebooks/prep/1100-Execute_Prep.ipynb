{
 "cells": [
  {
   "cell_type": "markdown",
   "metadata": {},
   "source": [
    "# Prep"
   ]
  },
  {
   "cell_type": "markdown",
   "metadata": {},
   "source": [
    "Cell executes all but \n",
    "* 100 - Obtain Country Data.ipynb\n",
    "* 550-Medals_and_Ath_Age.ipynb<br>\n",
    "\n",
    "These notebooks are not necessary (100 - Obtain Country Data.ipynb must be run once before all other notebooks)"
   ]
  },
  {
   "cell_type": "code",
   "execution_count": 1,
   "metadata": {
    "collapsed": true
   },
   "outputs": [],
   "source": [
    "%%capture\n",
    "%run 200-Country_Preperation-Final.ipynb\n",
    "%run 250-Removing_All_Countries_Without_Medals.ipynb\n",
    "%run 275-GDP_Null_Values.ipynb\n",
    "%run 300-Geographical_Nulls.ipynb\n",
    "%run 325-Get_Elevation_Range.ipynb\n",
    "%run 350-Education_Index.ipynb\n",
    "%run 400-Other_Olympic_Teams.ipynb\n",
    "%run 500-Olympic_Medals_DF.ipynb\n",
    "%run 600-Olympic_Athlete_Numbers.ipynb\n",
    "%run 700-Olympic_Medals_and_Athlete_Numbers_DF.ipynb\n",
    "%run 800-Olympic_NOC_Rankings.ipynb\n",
    "%run 900-Olympic_Athlete_Rankings.ipynb\n",
    "%run 950-Final_Medal_DataFrame.ipynb\n",
    "%run 1000-Joining"
   ]
  },
  {
   "cell_type": "code",
   "execution_count": null,
   "metadata": {
    "collapsed": true
   },
   "outputs": [],
   "source": []
  }
 ],
 "metadata": {
  "kernelspec": {
   "display_name": "Python 3",
   "language": "python",
   "name": "python3"
  },
  "language_info": {
   "codemirror_mode": {
    "name": "ipython",
    "version": 3
   },
   "file_extension": ".py",
   "mimetype": "text/x-python",
   "name": "python",
   "nbconvert_exporter": "python",
   "pygments_lexer": "ipython3",
   "version": "3.6.3"
  }
 },
 "nbformat": 4,
 "nbformat_minor": 2
}
