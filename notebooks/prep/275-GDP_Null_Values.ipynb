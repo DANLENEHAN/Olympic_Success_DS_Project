{
 "cells": [
  {
   "cell_type": "markdown",
   "metadata": {},
   "source": [
    "# Getting rid of the GDP null values "
   ]
  },
  {
   "cell_type": "markdown",
   "metadata": {},
   "source": [
    "# Purpose \n",
    "This notebook is for getting rid of GDP null values that plague our country dataset so far. "
   ]
  },
  {
   "cell_type": "markdown",
   "metadata": {},
   "source": [
    "# Datasets\n",
    "Uses: <br>\n",
    "** countries_250.csv ** from 250-Removing_All_Countries_Without_Medals <br>\n",
    "Creates: &emsp;\n",
    "<br>\n",
    "** countries_275.csv ** csv containing all the countries information with no GDP nulls bar the countries that will be fixed in notebook 400. "
   ]
  },
  {
   "cell_type": "code",
   "execution_count": 1,
   "metadata": {
    "collapsed": true
   },
   "outputs": [],
   "source": [
    "import os.path\n",
    "import pandas as pd\n",
    "import numpy as np\n",
    "import matplotlib.pyplot as plt\n",
    "import math\n",
    "%matplotlib inline\n",
    "from bs4 import BeautifulSoup\n",
    "import webbrowser\n",
    "import urllib.request\n",
    "from lxml import html\n",
    "import zipfile\n",
    "import re\n",
    "import string\n",
    "import sys, os\n",
    "from IPython.display import Image"
   ]
  },
  {
   "cell_type": "code",
   "execution_count": 2,
   "metadata": {
    "collapsed": true
   },
   "outputs": [],
   "source": [
    "# Ensure the file exists\n",
    "if not os.path.exists( r\"../../data/prep/Countries/countries_250.csv\" ):\n",
    "    print(\"Missing dataset file\")"
   ]
  },
  {
   "cell_type": "code",
   "execution_count": 3,
   "metadata": {
    "collapsed": true
   },
   "outputs": [],
   "source": [
    "# read the countries df into a dataframe\n",
    "df = pd.read_csv(  r\"../../data/prep/Countries/countries_250.csv\" , encoding = \"ISO-8859-1\")"
   ]
  },
  {
   "cell_type": "code",
   "execution_count": 4,
   "metadata": {},
   "outputs": [
    {
     "data": {
      "text/plain": [
       "Country                      0\n",
       "Year                         0\n",
       "Population                   0\n",
       "Males                        0\n",
       "Females                      0\n",
       "Life_Expectancy            174\n",
       "GDP                        511\n",
       "Region                       0\n",
       "Elevation                  315\n",
       "Area_SqKM                  315\n",
       "Centroid_Longitude         315\n",
       "Centroid_Latitude          315\n",
       "Population_Density         315\n",
       "CO2_Emissions              453\n",
       "Methane_Emissions          729\n",
       "Nitrous_Oxide_Emisions     729\n",
       "Total_Emissions              0\n",
       "Emmisions_per_Capita      2793\n",
       "Code                         0\n",
       "dtype: int64"
      ]
     },
     "execution_count": 4,
     "metadata": {},
     "output_type": "execute_result"
    }
   ],
   "source": [
    "# checking the number of null values we are dealing with\n",
    "df.isnull().sum()"
   ]
  },
  {
   "cell_type": "markdown",
   "metadata": {},
   "source": [
    "# Figuring out which countries have Null GDP values "
   ]
  },
  {
   "cell_type": "code",
   "execution_count": 5,
   "metadata": {
    "collapsed": true
   },
   "outputs": [],
   "source": [
    "# these are all the rows with null GDP values\n",
    "nullGDPdf = df.loc[df['GDP'].isnull()].reset_index()\n",
    "# Dropping the old index\n",
    "nullGDPdf = nullGDPdf.drop(nullGDPdf.columns[[0]], axis=1)"
   ]
  },
  {
   "cell_type": "code",
   "execution_count": 6,
   "metadata": {
    "collapsed": true
   },
   "outputs": [],
   "source": [
    "# a list of all the countries with null GDP values \n",
    "gdpNcs = ['Afghanistan', 'Argentina', 'Armenia', 'Azerbaijan', 'Bahrain',\n",
    "       'Barbados', 'Belarus', 'Bermuda', 'Bosnia and Herzegovina',\n",
    "       'Bulgaria', 'Croatia', 'Cuba', 'Cyprus', 'Czech Republic',\n",
    "       'Djibouti', 'Egypt, Arab Rep.', 'Eritrea', 'Estonia', 'Ethiopia',\n",
    "       'Georgia', 'Germany', 'Grenada', 'Hungary', 'Indonesia',\n",
    "       'Iran, Islamic Rep.', 'Iraq', 'Jordan', 'Kazakhstan',\n",
    "       'Korea, Dem. People?s Rep.', 'Kosovo', 'Kuwait', 'Kyrgyz Republic',\n",
    "       'Latvia', 'Liechtenstein', 'Lithuania', 'Macedonia, FYR',\n",
    "       'Mauritius', 'Moldova', 'Mongolia', 'Montenegro', 'Mozambique',\n",
    "       'Namibia', 'New Zealand', 'Niger', 'Paraguay', 'Poland',\n",
    "       'Puerto Rico', 'Qatar', 'Romania', 'Russian Federation', 'Samoa',\n",
    "       'Saudi Arabia', 'Serbia', 'Slovak Republic', 'Slovenia',\n",
    "       'Switzerland', 'Syrian Arab Republic', 'Tajikistan', 'Tanzania',\n",
    "       'Tonga', 'Tunisia', 'Turkmenistan', 'Ukraine',\n",
    "       'United Arab Emirates', 'Uzbekistan', 'Venezuela, RB', 'Vietnam',\n",
    "       'Virgin Islands (U.S.)']"
   ]
  },
  {
   "cell_type": "markdown",
   "metadata": {
    "collapsed": true
   },
   "source": [
    "# Creating a dictionary with each country and their number of null values "
   ]
  },
  {
   "cell_type": "code",
   "execution_count": 7,
   "metadata": {
    "collapsed": true
   },
   "outputs": [],
   "source": [
    "# null dictionary \n",
    "nullDic = {}"
   ]
  },
  {
   "cell_type": "code",
   "execution_count": 8,
   "metadata": {
    "collapsed": true
   },
   "outputs": [],
   "source": [
    "for x, row in nullGDPdf.iterrows():\n",
    "    \n",
    "    country = nullGDPdf['Country'].iloc[x]\n",
    "    \n",
    "    # gets how many rows/ years that have null values for GDP \n",
    "    temp = nullGDPdf.loc[nullGDPdf['Country'] == country]\n",
    "    length = len(temp.loc[temp['GDP'].isnull()])\n",
    "    \n",
    "    nullDic.update({country: length})"
   ]
  },
  {
   "cell_type": "code",
   "execution_count": 9,
   "metadata": {},
   "outputs": [
    {
     "data": {
      "text/plain": [
       "{'Afghanistan': 13,\n",
       " 'Armenia': 8,\n",
       " 'Azerbaijan': 8,\n",
       " 'Bahrain': 6,\n",
       " 'Barbados': 8,\n",
       " 'Belarus': 8,\n",
       " 'Bermuda': 2,\n",
       " 'Bosnia and Herzegovina': 9,\n",
       " 'Bulgaria': 5,\n",
       " 'Croatia': 10,\n",
       " 'Cuba': 4,\n",
       " 'Cyprus': 4,\n",
       " 'Czech Republic': 8,\n",
       " 'Djibouti': 9,\n",
       " 'Eritrea': 11,\n",
       " 'Estonia': 10,\n",
       " 'Ethiopia': 6,\n",
       " 'Georgia': 2,\n",
       " 'Germany': 3,\n",
       " 'Grenada': 5,\n",
       " 'Hong Kong SAR, China': 1,\n",
       " 'Hungary': 8,\n",
       " 'Iraq': 2,\n",
       " 'Ireland': 3,\n",
       " 'Jamaica': 2,\n",
       " 'Jordan': 4,\n",
       " 'Kazakhstan': 8,\n",
       " 'Korea, Dem. People?s Rep.': 21,\n",
       " 'Kosovo': 12,\n",
       " 'Kuwait': 8,\n",
       " 'Kyrgyz Republic': 7,\n",
       " 'Latvia': 10,\n",
       " 'Liechtenstein': 20,\n",
       " 'Lithuania': 10,\n",
       " 'Macedonia, FYR': 8,\n",
       " 'Mauritius': 4,\n",
       " 'Moldova': 10,\n",
       " 'Mongolia': 6,\n",
       " 'Montenegro': 11,\n",
       " 'Morocco': 2,\n",
       " 'Mozambique': 5,\n",
       " 'Namibia': 5,\n",
       " 'New Zealand': 5,\n",
       " 'Niger': 21,\n",
       " 'Poland': 8,\n",
       " 'Puerto Rico': 2,\n",
       " 'Qatar': 12,\n",
       " 'Romania': 8,\n",
       " 'Russian Federation': 8,\n",
       " 'Samoa': 6,\n",
       " 'Saudi Arabia': 2,\n",
       " 'Serbia': 10,\n",
       " 'Slovak Republic': 8,\n",
       " 'Slovenia': 10,\n",
       " 'Sri Lanka': 1,\n",
       " 'Suriname': 4,\n",
       " 'Switzerland': 5,\n",
       " 'Syrian Arab Republic': 21,\n",
       " 'Tajikistan': 7,\n",
       " 'Tanzania': 7,\n",
       " 'Tonga': 6,\n",
       " 'Tunisia': 2,\n",
       " 'Turkmenistan': 7,\n",
       " 'Uganda': 6,\n",
       " 'Ukraine': 7,\n",
       " 'United Arab Emirates': 4,\n",
       " 'Uzbekistan': 7,\n",
       " 'Venezuela, RB': 1,\n",
       " 'Vietnam': 6,\n",
       " 'Virgin Islands (U.S.)': 14}"
      ]
     },
     "execution_count": 9,
     "metadata": {},
     "output_type": "execute_result"
    }
   ],
   "source": [
    "# this is the null dictionary \n",
    "# The keys are the countries and the values are the number of years with null GDP\n",
    "nullDic"
   ]
  },
  {
   "cell_type": "markdown",
   "metadata": {},
   "source": [
    "# Excluding nations that particapted for different NOCs \n",
    "These are teams who competed for teams like the Unified Olympic Team and Solviet Union etc. There nulls will be filled in the Notebook 400. "
   ]
  },
  {
   "cell_type": "code",
   "execution_count": 10,
   "metadata": {
    "collapsed": true
   },
   "outputs": [],
   "source": [
    "# list of all these countries\n",
    "members = ['Montenegro',\n",
    " 'Uzbekistan',\n",
    " 'Slovak Republic',\n",
    " 'Slovenia',\n",
    " 'Turkmenistan',\n",
    " 'Kazakhstan',\n",
    " 'Serbia',\n",
    " 'Azerbaijan',\n",
    " 'Moldova',\n",
    " 'Macedonia, FYR',\n",
    " 'Czech Republic',\n",
    " 'Kyrgyz Republic',\n",
    " 'Belarus',\n",
    " 'Ukraine',\n",
    " 'Tajikistan',\n",
    " 'Bosnia and Herzegovina',\n",
    " 'Georgia',\n",
    " 'Russian Federation',\n",
    " 'Armenia', 'Lithuania']"
   ]
  },
  {
   "cell_type": "markdown",
   "metadata": {},
   "source": [
    "** We need to save the countires that we remove so we can add them back later to be removed in notebook 400. The GDP values for these countries are filled in notebook 400.**"
   ]
  },
  {
   "cell_type": "code",
   "execution_count": 11,
   "metadata": {
    "collapsed": true
   },
   "outputs": [],
   "source": [
    "# the removed countries\n",
    "removed = df[df['Country'].isin(members)].reset_index()"
   ]
  },
  {
   "cell_type": "code",
   "execution_count": 12,
   "metadata": {
    "collapsed": true
   },
   "outputs": [],
   "source": [
    "# Removing these countires from the country df to see how mmany nulls are left afterwards \n",
    "df = df[~df['Country'].isin(members)].reset_index()"
   ]
  },
  {
   "cell_type": "code",
   "execution_count": 13,
   "metadata": {},
   "outputs": [
    {
     "data": {
      "text/plain": [
       "index                        0\n",
       "Country                      0\n",
       "Year                         0\n",
       "Population                   0\n",
       "Males                        0\n",
       "Females                      0\n",
       "Life_Expectancy            142\n",
       "GDP                        350\n",
       "Region                       0\n",
       "Elevation                  315\n",
       "Area_SqKM                  315\n",
       "Centroid_Longitude         315\n",
       "Centroid_Latitude          315\n",
       "Population_Density         315\n",
       "CO2_Emissions              259\n",
       "Methane_Emissions          601\n",
       "Nitrous_Oxide_Emisions     601\n",
       "Total_Emissions              0\n",
       "Emmisions_per_Capita      2373\n",
       "Code                         0\n",
       "dtype: int64"
      ]
     },
     "execution_count": 13,
     "metadata": {},
     "output_type": "execute_result"
    }
   ],
   "source": [
    "df.isnull().sum()"
   ]
  },
  {
   "cell_type": "markdown",
   "metadata": {},
   "source": [
    "# Same process for checking nulls as above"
   ]
  },
  {
   "cell_type": "code",
   "execution_count": 14,
   "metadata": {
    "collapsed": true
   },
   "outputs": [],
   "source": [
    "# these are all the rows with null GDP values\n",
    "nullGDPdf = df.loc[df['GDP'].isnull()].reset_index()\n",
    "# Dropping the old index\n",
    "nullGDPdf = nullGDPdf.drop(nullGDPdf.columns[[0]], axis=1)"
   ]
  },
  {
   "cell_type": "code",
   "execution_count": 15,
   "metadata": {
    "collapsed": true
   },
   "outputs": [],
   "source": [
    "# null dictionary \n",
    "nullDic = {}"
   ]
  },
  {
   "cell_type": "code",
   "execution_count": 16,
   "metadata": {
    "collapsed": true
   },
   "outputs": [],
   "source": [
    "for x, row in nullGDPdf.iterrows():\n",
    "    \n",
    "    country = nullGDPdf['Country'].iloc[x]\n",
    "    \n",
    "    # gets how many rows/ years that have null values for GDP \n",
    "    temp = nullGDPdf.loc[nullGDPdf['Country'] == country]\n",
    "    length = len(temp.loc[temp['GDP'].isnull()])\n",
    "    \n",
    "    nullDic.update({country: length})"
   ]
  },
  {
   "cell_type": "code",
   "execution_count": 17,
   "metadata": {},
   "outputs": [
    {
     "data": {
      "text/plain": [
       "{'Afghanistan': 13,\n",
       " 'Bahrain': 6,\n",
       " 'Barbados': 8,\n",
       " 'Bermuda': 2,\n",
       " 'Bulgaria': 5,\n",
       " 'Croatia': 10,\n",
       " 'Cuba': 4,\n",
       " 'Cyprus': 4,\n",
       " 'Djibouti': 9,\n",
       " 'Eritrea': 11,\n",
       " 'Estonia': 10,\n",
       " 'Ethiopia': 6,\n",
       " 'Germany': 3,\n",
       " 'Grenada': 5,\n",
       " 'Hong Kong SAR, China': 1,\n",
       " 'Hungary': 8,\n",
       " 'Iraq': 2,\n",
       " 'Ireland': 3,\n",
       " 'Jamaica': 2,\n",
       " 'Jordan': 4,\n",
       " 'Korea, Dem. People?s Rep.': 21,\n",
       " 'Kosovo': 12,\n",
       " 'Kuwait': 8,\n",
       " 'Latvia': 10,\n",
       " 'Liechtenstein': 20,\n",
       " 'Mauritius': 4,\n",
       " 'Mongolia': 6,\n",
       " 'Morocco': 2,\n",
       " 'Mozambique': 5,\n",
       " 'Namibia': 5,\n",
       " 'New Zealand': 5,\n",
       " 'Niger': 21,\n",
       " 'Poland': 8,\n",
       " 'Puerto Rico': 2,\n",
       " 'Qatar': 12,\n",
       " 'Romania': 8,\n",
       " 'Samoa': 6,\n",
       " 'Saudi Arabia': 2,\n",
       " 'Sri Lanka': 1,\n",
       " 'Suriname': 4,\n",
       " 'Switzerland': 5,\n",
       " 'Syrian Arab Republic': 21,\n",
       " 'Tanzania': 7,\n",
       " 'Tonga': 6,\n",
       " 'Tunisia': 2,\n",
       " 'Uganda': 6,\n",
       " 'United Arab Emirates': 4,\n",
       " 'Venezuela, RB': 1,\n",
       " 'Vietnam': 6,\n",
       " 'Virgin Islands (U.S.)': 14}"
      ]
     },
     "execution_count": 17,
     "metadata": {},
     "output_type": "execute_result"
    }
   ],
   "source": [
    "nullDic"
   ]
  },
  {
   "cell_type": "markdown",
   "metadata": {},
   "source": [
    "# Removing Nulls in list above\n",
    "* In order to remove the remaning nulls we sourced as many of the years as possible from this UN website http://data.un.org/,  as we did in previous notebooks. However even this website did not contain all the GDPs. It usally had values years 1970 - 2016. <br>  The way we removed the rest of the null GDPs of the countries above is by using GDPs from later years in that country. If a country has a null GDP value we take the GDP values for the 3 years after and get the average growth. We then multiply 1 - average growth by the first year following the null GDP to get the GDP for this null year. We repeat the process to get GDP for all the nulls. We iterate through the df backwards so they're will always be a GDP value for each country before the null where we can apply the process just mentioned.\n",
    "* Once we have elimated the possability of null values for the Years 2016, 2014 and 2012 for every country then every country will have at least three years that we can use to fill remaining GDP nulls by the process explained above."
   ]
  },
  {
   "cell_type": "markdown",
   "metadata": {},
   "source": [
    "So As long as the years 2012 - 2016 are non null we'll have no probelms filling any other nulls."
   ]
  },
  {
   "cell_type": "code",
   "execution_count": 18,
   "metadata": {},
   "outputs": [
    {
     "data": {
      "text/plain": [
       "array(['Bahrain', 'Bermuda', 'Cuba', 'Djibouti', 'Eritrea',\n",
       "       'Korea, Dem. People?s Rep.', 'Liechtenstein', 'Niger',\n",
       "       'Puerto Rico', 'Syrian Arab Republic', 'Venezuela, RB',\n",
       "       'Virgin Islands (U.S.)'], dtype=object)"
      ]
     },
     "execution_count": 18,
     "metadata": {},
     "output_type": "execute_result"
    }
   ],
   "source": [
    "# Countries with null values for 2012, 2014 or 2016\n",
    "temp = df[df['GDP'].isnull()]\n",
    "temp[temp['Year'] >= 2012]['Country'].unique()"
   ]
  },
  {
   "cell_type": "markdown",
   "metadata": {},
   "source": [
    "# There is no data for the year 2016 for Virgin Islands\n",
    "This is the only year it is missing. "
   ]
  },
  {
   "cell_type": "code",
   "execution_count": 19,
   "metadata": {},
   "outputs": [
    {
     "data": {
      "text/html": [
       "<div>\n",
       "<style>\n",
       "    .dataframe thead tr:only-child th {\n",
       "        text-align: right;\n",
       "    }\n",
       "\n",
       "    .dataframe thead th {\n",
       "        text-align: left;\n",
       "    }\n",
       "\n",
       "    .dataframe tbody tr th {\n",
       "        vertical-align: top;\n",
       "    }\n",
       "</style>\n",
       "<table border=\"1\" class=\"dataframe\">\n",
       "  <thead>\n",
       "    <tr style=\"text-align: right;\">\n",
       "      <th></th>\n",
       "      <th>Country</th>\n",
       "      <th>Year</th>\n",
       "      <th>Population</th>\n",
       "      <th>Males</th>\n",
       "      <th>Females</th>\n",
       "      <th>Life_Expectancy</th>\n",
       "      <th>GDP</th>\n",
       "      <th>Region</th>\n",
       "      <th>Elevation</th>\n",
       "      <th>Area_SqKM</th>\n",
       "      <th>Centroid_Longitude</th>\n",
       "      <th>Centroid_Latitude</th>\n",
       "      <th>Population_Density</th>\n",
       "      <th>CO2_Emissions</th>\n",
       "      <th>Methane_Emissions</th>\n",
       "      <th>Nitrous_Oxide_Emisions</th>\n",
       "      <th>Total_Emissions</th>\n",
       "      <th>Emmisions_per_Capita</th>\n",
       "      <th>Code</th>\n",
       "    </tr>\n",
       "  </thead>\n",
       "  <tbody>\n",
       "    <tr>\n",
       "      <th>2351</th>\n",
       "      <td>Virgin Islands (U.S.)</td>\n",
       "      <td>2016</td>\n",
       "      <td>102951.0</td>\n",
       "      <td>49091.0</td>\n",
       "      <td>53860.0</td>\n",
       "      <td>NaN</td>\n",
       "      <td>NaN</td>\n",
       "      <td>South America</td>\n",
       "      <td>NaN</td>\n",
       "      <td>NaN</td>\n",
       "      <td>NaN</td>\n",
       "      <td>NaN</td>\n",
       "      <td>NaN</td>\n",
       "      <td>NaN</td>\n",
       "      <td>NaN</td>\n",
       "      <td>NaN</td>\n",
       "      <td>0.0</td>\n",
       "      <td>NaN</td>\n",
       "      <td>ISV</td>\n",
       "    </tr>\n",
       "  </tbody>\n",
       "</table>\n",
       "</div>"
      ],
      "text/plain": [
       "                    Country  Year  Population    Males  Females  \\\n",
       "2351  Virgin Islands (U.S.)  2016    102951.0  49091.0  53860.0   \n",
       "\n",
       "      Life_Expectancy  GDP         Region  Elevation  Area_SqKM  \\\n",
       "2351              NaN  NaN  South America        NaN        NaN   \n",
       "\n",
       "      Centroid_Longitude  Centroid_Latitude  Population_Density  \\\n",
       "2351                 NaN                NaN                 NaN   \n",
       "\n",
       "      CO2_Emissions  Methane_Emissions  Nitrous_Oxide_Emisions  \\\n",
       "2351            NaN                NaN                     NaN   \n",
       "\n",
       "      Total_Emissions  Emmisions_per_Capita Code  \n",
       "2351              0.0                   NaN  ISV  "
      ]
     },
     "execution_count": 19,
     "metadata": {},
     "output_type": "execute_result"
    }
   ],
   "source": [
    "# Remove old df index\n",
    "df = df.drop(df.columns[[0]], axis=1)\n",
    "# The virgin Islands is just missing 2016 \n",
    "# So we'll just find the 2016 value online and plug it in\n",
    "df[df['Country'] == 'Virgin Islands (U.S.)'].tail(1)"
   ]
  },
  {
   "cell_type": "markdown",
   "metadata": {},
   "source": [
    "This source https://www.bea.gov/newsreleases/general/terr/2017/vigdp_120117.pdf stated that GDP in Virgin Islands U.S. rose 1.5% from 2015 to 2016 after increasing 2.9% from 2014 to 2015 an overall increase of 4.4%. So we'll just apply this 4.4% increase to 2014 to get the 2016 value. "
   ]
  },
  {
   "cell_type": "code",
   "execution_count": 20,
   "metadata": {
    "collapsed": true
   },
   "outputs": [],
   "source": [
    "# Setting this GDP for 2016 Virgin Islands by row number..\n",
    "df.loc[2351, 'GDP'] = (df.loc[2350, 'GDP'] * 0.044) + (df.loc[2350, 'GDP'])"
   ]
  },
  {
   "cell_type": "markdown",
   "metadata": {},
   "source": [
    "# Filling as many nulls as possible from 1970 to 2016\n",
    "All of the cases below use the same process for filling the nulls for every country. \n",
    "First we load in the file containing GDP information from 1970 to 2016 then using each of these csvs we create a dictionary of Key, Year: GDP number, Vaue pairs. \n",
    "Afterwards we use a for loop to iterate through the country df and fill the values for each year if the column had a null value and is from the country we have data for. "
   ]
  },
  {
   "cell_type": "markdown",
   "metadata": {},
   "source": [
    "# Filling the Rest of these countries Nulls from 1970 to 2016 "
   ]
  },
  {
   "cell_type": "markdown",
   "metadata": {},
   "source": [
    "# Korea"
   ]
  },
  {
   "cell_type": "code",
   "execution_count": 21,
   "metadata": {
    "collapsed": true
   },
   "outputs": [],
   "source": [
    "# Reading in the GDP info for Korea\n",
    "if not os.path.exists( r\"../../data/raw/UNData/UN_Korea_GDP.csv\" ):\n",
    "    print(\"Missing dataset file\")"
   ]
  },
  {
   "cell_type": "code",
   "execution_count": 22,
   "metadata": {
    "collapsed": true
   },
   "outputs": [],
   "source": [
    "# read the Korea UN data df into a dataframe\n",
    "kGDP = pd.read_csv( r\"../../data/raw/UNData/UN_Korea_GDP.csv\"  , encoding = \"ISO-8859-1\")"
   ]
  },
  {
   "cell_type": "markdown",
   "metadata": {},
   "source": [
    "# Creating the Dictionary "
   ]
  },
  {
   "cell_type": "code",
   "execution_count": 23,
   "metadata": {
    "collapsed": true
   },
   "outputs": [],
   "source": [
    "# Dictionary for holding GDP info Key - Year , Value - GDP\n",
    "gdpDict = {}\n",
    "\n",
    "for x, row in kGDP.iterrows():\n",
    "    \n",
    "    GDP = kGDP['Value'].iloc[x]\n",
    "    Year = kGDP['Year'].iloc[x]\n",
    "    \n",
    "    gdpDict.update({Year: GDP})\n",
    "    \n",
    "    "
   ]
  },
  {
   "cell_type": "markdown",
   "metadata": {},
   "source": [
    "# Filling the rows with nulls of same country "
   ]
  },
  {
   "cell_type": "code",
   "execution_count": 24,
   "metadata": {
    "collapsed": true
   },
   "outputs": [],
   "source": [
    "# filling some the nulls from 1970 - 2016 with the GDP dictionary \n",
    "for x, row in df.iterrows():\n",
    "    \n",
    "    Year = df['Year'].iloc[x]\n",
    "    country = df['Country'].iloc[x]\n",
    "    GDP = df['GDP'].iloc[x]\n",
    "    \n",
    "    if(country == 'Korea, Dem. People?s Rep.' and pd.isnull(GDP) and Year >= 1970):\n",
    "        df.loc[x, 'GDP'] = gdpDict[Year]\n",
    "        \n",
    "        "
   ]
  },
  {
   "cell_type": "markdown",
   "metadata": {},
   "source": [
    "# Niger"
   ]
  },
  {
   "cell_type": "code",
   "execution_count": 25,
   "metadata": {
    "collapsed": true
   },
   "outputs": [],
   "source": [
    "# Reading in the GDP info for Niger\n",
    "if not os.path.exists( r\"../../data/raw/UNData/UN_Niger_GDP.csv\" ):\n",
    "    print(\"Missing dataset file\")"
   ]
  },
  {
   "cell_type": "code",
   "execution_count": 26,
   "metadata": {
    "collapsed": true
   },
   "outputs": [],
   "source": [
    "# read the Un data for Niger into a dataframe\n",
    "nGDP = pd.read_csv( r\"../../data/raw/UNData/UN_Niger_GDP.csv\"  , encoding = \"ISO-8859-1\")"
   ]
  },
  {
   "cell_type": "code",
   "execution_count": 27,
   "metadata": {
    "collapsed": true
   },
   "outputs": [],
   "source": [
    "# Dictionary for holding GDP info Key - Year , Value - GDP\n",
    "gdpDict = {}\n",
    "\n",
    "for x, row in nGDP.iterrows():\n",
    "    \n",
    "    GDP = nGDP['Value'].iloc[x]\n",
    "    Year = nGDP['Year'].iloc[x]\n",
    "    \n",
    "    gdpDict.update({Year: GDP})\n",
    "    \n",
    "    "
   ]
  },
  {
   "cell_type": "code",
   "execution_count": 28,
   "metadata": {
    "collapsed": true
   },
   "outputs": [],
   "source": [
    "# filling some the nulls from 1970 - 2016 with the GDP dictionary \n",
    "for x, row in df.iterrows():\n",
    "    \n",
    "    Year = df['Year'].iloc[x]\n",
    "    country = df['Country'].iloc[x]\n",
    "    GDP = df['GDP'].iloc[x]\n",
    "    \n",
    "    if(country == 'Niger' and pd.isnull(GDP) and Year >= 1970):\n",
    "        df.loc[x, 'GDP'] = gdpDict[Year]\n",
    "        \n",
    "        "
   ]
  },
  {
   "cell_type": "markdown",
   "metadata": {},
   "source": [
    "# Bermuda "
   ]
  },
  {
   "cell_type": "code",
   "execution_count": 29,
   "metadata": {
    "collapsed": true
   },
   "outputs": [],
   "source": [
    "# Reading in the GDP info for Bermuda\n",
    "if not os.path.exists( r\"../../data/raw/UNData/UN_Bermuda_GDP.csv\" ):\n",
    "    print(\"Missing dataset file\")"
   ]
  },
  {
   "cell_type": "code",
   "execution_count": 30,
   "metadata": {
    "collapsed": true
   },
   "outputs": [],
   "source": [
    "# read the UN Data for Bermuda into a dataframe\n",
    "bGDP = pd.read_csv( r\"../../data/raw/UNData/UN_Bermuda_GDP.csv\"  , encoding = \"ISO-8859-1\")"
   ]
  },
  {
   "cell_type": "code",
   "execution_count": 31,
   "metadata": {
    "collapsed": true
   },
   "outputs": [],
   "source": [
    "# Dictionary for holding GDP info Key - Year , Value - GDP\n",
    "gdpDict = {}\n",
    "\n",
    "for x, row in bGDP.iterrows():\n",
    "    \n",
    "    GDP = bGDP['Value'].iloc[x]\n",
    "    Year = bGDP['Year'].iloc[x]\n",
    "    \n",
    "    gdpDict.update({Year: GDP})\n",
    "    \n",
    "    "
   ]
  },
  {
   "cell_type": "code",
   "execution_count": 32,
   "metadata": {
    "collapsed": true
   },
   "outputs": [],
   "source": [
    "# filling some the nulls from 1970 - 2016 with the GDP dictionary \n",
    "for x, row in df.iterrows():\n",
    "    \n",
    "    Year = df['Year'].iloc[x]\n",
    "    country = df['Country'].iloc[x]\n",
    "    GDP = df['GDP'].iloc[x]\n",
    "    \n",
    "    if(country == 'Bermuda' and pd.isnull(GDP) and Year >= 1970):\n",
    "        df.loc[x, 'GDP'] = gdpDict[Year]\n",
    "        \n",
    "        "
   ]
  },
  {
   "cell_type": "markdown",
   "metadata": {},
   "source": [
    "# Cuba "
   ]
  },
  {
   "cell_type": "code",
   "execution_count": 33,
   "metadata": {
    "collapsed": true
   },
   "outputs": [],
   "source": [
    "# Reading in the GDP info for Cuba\n",
    "if not os.path.exists( r\"../../data/raw/UNData/UN_Cuba_GDP.csv\" ):\n",
    "    print(\"Missing dataset file\")"
   ]
  },
  {
   "cell_type": "code",
   "execution_count": 34,
   "metadata": {
    "collapsed": true
   },
   "outputs": [],
   "source": [
    "# read the UN Data for Cuba into a dataframe\n",
    "cGDP = pd.read_csv( r\"../../data/raw/UNData/UN_Cuba_GDP.csv\"  , encoding = \"ISO-8859-1\")"
   ]
  },
  {
   "cell_type": "code",
   "execution_count": 35,
   "metadata": {
    "collapsed": true
   },
   "outputs": [],
   "source": [
    "# Dictionary for holding GDP info Key - Year , Value - GDP\n",
    "gdpDict = {}\n",
    "\n",
    "for x, row in cGDP.iterrows():\n",
    "    \n",
    "    GDP = cGDP['Value'].iloc[x]\n",
    "    Year = cGDP['Year'].iloc[x]\n",
    "    \n",
    "    gdpDict.update({Year: GDP})\n",
    "    \n",
    "    "
   ]
  },
  {
   "cell_type": "code",
   "execution_count": 36,
   "metadata": {
    "collapsed": true
   },
   "outputs": [],
   "source": [
    "# filling some the nulls from 1970 - 2016 with the GDP dictionary \n",
    "for x, row in df.iterrows():\n",
    "    \n",
    "    Year = df['Year'].iloc[x]\n",
    "    country = df['Country'].iloc[x]\n",
    "    GDP = df['GDP'].iloc[x]\n",
    "    \n",
    "    if(country == 'Cuba' and pd.isnull(GDP) and Year >= 1970):\n",
    "        df.loc[x, 'GDP'] = gdpDict[Year]\n",
    "        \n",
    "        "
   ]
  },
  {
   "cell_type": "markdown",
   "metadata": {},
   "source": [
    "# Djibouti"
   ]
  },
  {
   "cell_type": "code",
   "execution_count": 37,
   "metadata": {
    "collapsed": true
   },
   "outputs": [],
   "source": [
    "# Reading in the GDP info for Djibouti\n",
    "if not os.path.exists( r\"../../data/raw/UNData/UN_Djibouti_GDP.csv\" ):\n",
    "    print(\"Missing dataset file\")"
   ]
  },
  {
   "cell_type": "code",
   "execution_count": 38,
   "metadata": {
    "collapsed": true
   },
   "outputs": [],
   "source": [
    "# read the UN Data for Djibouti into a dataframe\n",
    "dGDP = pd.read_csv( r\"../../data/raw/UNData/UN_Djibouti_GDP.csv\"  , encoding = \"ISO-8859-1\")"
   ]
  },
  {
   "cell_type": "code",
   "execution_count": 39,
   "metadata": {
    "collapsed": true
   },
   "outputs": [],
   "source": [
    "# Dictionary for holding GDP info Key - Year , Value - GDP\n",
    "gdpDict = {}\n",
    "\n",
    "for x, row in dGDP.iterrows():\n",
    "    \n",
    "    GDP = dGDP['Value'].iloc[x]\n",
    "    Year = dGDP['Year'].iloc[x]\n",
    "    \n",
    "    gdpDict.update({Year: GDP})\n",
    "    \n",
    "    "
   ]
  },
  {
   "cell_type": "code",
   "execution_count": 40,
   "metadata": {
    "collapsed": true
   },
   "outputs": [],
   "source": [
    "# filling some the nulls from 1970 - 2016 with the GDP dictionary \n",
    "for x, row in df.iterrows():\n",
    "    \n",
    "    Year = df['Year'].iloc[x]\n",
    "    country = df['Country'].iloc[x]\n",
    "    GDP = df['GDP'].iloc[x]\n",
    "    \n",
    "    if(country == 'Djibouti' and pd.isnull(GDP) and Year >= 1970):\n",
    "        df.loc[x, 'GDP'] = gdpDict[Year]\n",
    "        \n",
    "        "
   ]
  },
  {
   "cell_type": "markdown",
   "metadata": {},
   "source": [
    "# Eritrea"
   ]
  },
  {
   "cell_type": "code",
   "execution_count": 41,
   "metadata": {
    "collapsed": true
   },
   "outputs": [],
   "source": [
    "# Reading in the GDP info for Eritrea\n",
    "if not os.path.exists( r\"../../data/raw/UNData/UN_Eritrea_GDP.csv\" ):\n",
    "    print(\"Missing dataset file\")"
   ]
  },
  {
   "cell_type": "code",
   "execution_count": 42,
   "metadata": {
    "collapsed": true
   },
   "outputs": [],
   "source": [
    "# read the UN Data for Eritrea into a dataframe\n",
    "eGDP = pd.read_csv( r\"../../data/raw/UNData/UN_Eritrea_GDP.csv\"  , encoding = \"ISO-8859-1\")"
   ]
  },
  {
   "cell_type": "code",
   "execution_count": 43,
   "metadata": {
    "collapsed": true
   },
   "outputs": [],
   "source": [
    "# Dictionary for holding GDP info Key - Year , Value - GDP\n",
    "gdpDict = {}\n",
    "\n",
    "for x, row in eGDP.iterrows():\n",
    "    \n",
    "    GDP = eGDP['Value'].iloc[x]\n",
    "    Year = eGDP['Year'].iloc[x]\n",
    "    \n",
    "    gdpDict.update({Year: GDP})\n",
    "    \n",
    "    "
   ]
  },
  {
   "cell_type": "code",
   "execution_count": 44,
   "metadata": {
    "collapsed": true
   },
   "outputs": [],
   "source": [
    "# filling some the nulls from 1990 - 2016 with the GDP dictionary \n",
    "for x, row in df.iterrows():\n",
    "    \n",
    "    Year = df['Year'].iloc[x]\n",
    "    country = df['Country'].iloc[x]\n",
    "    GDP = df['GDP'].iloc[x]\n",
    "    \n",
    "    # GDP values are only given down to 1990\n",
    "    if(country == 'Eritrea' and pd.isnull(GDP) and Year >= 1990):\n",
    "        df.loc[x, 'GDP'] = gdpDict[Year]\n",
    "        \n",
    "        "
   ]
  },
  {
   "cell_type": "markdown",
   "metadata": {},
   "source": [
    "# Liechtenstein "
   ]
  },
  {
   "cell_type": "code",
   "execution_count": 45,
   "metadata": {
    "collapsed": true
   },
   "outputs": [],
   "source": [
    "# Reading in the GDP info for Liechtenstein \n",
    "if not os.path.exists( r\"../../data/raw/UNData/UN_Liechtenstein_GDP.csv\" ):\n",
    "    print(\"Missing dataset file\")"
   ]
  },
  {
   "cell_type": "code",
   "execution_count": 46,
   "metadata": {
    "collapsed": true
   },
   "outputs": [],
   "source": [
    "# read the UN data for Liechtenstein into a dataframe\n",
    "lGDP = pd.read_csv( r\"../../data/raw/UNData/UN_Liechtenstein_GDP.csv\"  , encoding = \"ISO-8859-1\")"
   ]
  },
  {
   "cell_type": "code",
   "execution_count": 47,
   "metadata": {
    "collapsed": true
   },
   "outputs": [],
   "source": [
    "# Dictionary for holding GDP info Key - Year , Value - GDP\n",
    "gdpDict = {}\n",
    "\n",
    "for x, row in lGDP.iterrows():\n",
    "    \n",
    "    GDP = lGDP['Value'].iloc[x]\n",
    "    Year = lGDP['Year'].iloc[x]\n",
    "    \n",
    "    gdpDict.update({Year: GDP})\n",
    "    \n",
    "    "
   ]
  },
  {
   "cell_type": "code",
   "execution_count": 48,
   "metadata": {
    "collapsed": true
   },
   "outputs": [],
   "source": [
    "# filling some the nulls from 1990 - 2016 with the GDP dictionary \n",
    "for x, row in df.iterrows():\n",
    "    \n",
    "    Year = df['Year'].iloc[x]\n",
    "    country = df['Country'].iloc[x]\n",
    "    GDP = df['GDP'].iloc[x]\n",
    "    \n",
    "    if(country == 'Liechtenstein' and pd.isnull(GDP) and Year >= 1990):\n",
    "        df.loc[x, 'GDP'] = gdpDict[Year]\n",
    "        \n",
    "        "
   ]
  },
  {
   "cell_type": "markdown",
   "metadata": {},
   "source": [
    "# Puerto Rico"
   ]
  },
  {
   "cell_type": "code",
   "execution_count": 49,
   "metadata": {
    "collapsed": true
   },
   "outputs": [],
   "source": [
    "# Reading in the GDP info for Puerto Rico\n",
    "if not os.path.exists( r\"../../data/raw/UNData/UN_PuertoRico_GDP.csv\" ):\n",
    "    print(\"Missing dataset file\")"
   ]
  },
  {
   "cell_type": "code",
   "execution_count": 50,
   "metadata": {
    "collapsed": true
   },
   "outputs": [],
   "source": [
    "# read the UN Data for Puerto Rico into a dataframe\n",
    "prGDP = pd.read_csv( r\"../../data/raw/UNData/UN_PuertoRico_GDP.csv\"  , encoding = \"ISO-8859-1\")"
   ]
  },
  {
   "cell_type": "code",
   "execution_count": 51,
   "metadata": {
    "collapsed": true
   },
   "outputs": [],
   "source": [
    "# Dictionary for holding GDP info Key - Year , Value - GDP\n",
    "\n",
    "gdpDict = {}\n",
    "\n",
    "for x, row in prGDP.iterrows():\n",
    "    \n",
    "    GDP = prGDP['Value'].iloc[x]\n",
    "    Year = prGDP['Year'].iloc[x]\n",
    "    \n",
    "    gdpDict.update({Year: GDP})\n",
    "    \n",
    "    "
   ]
  },
  {
   "cell_type": "code",
   "execution_count": 52,
   "metadata": {
    "collapsed": true
   },
   "outputs": [],
   "source": [
    "# filling some the nulls from 1990 - 2016 with the GDP dictionary \n",
    "for x, row in df.iterrows():\n",
    "    \n",
    "    Year = df['Year'].iloc[x]\n",
    "    country = df['Country'].iloc[x]\n",
    "    GDP = df['GDP'].iloc[x]\n",
    "    \n",
    "    if(country == 'Puerto Rico' and pd.isnull(GDP) and Year >= 1990):\n",
    "        df.loc[x, 'GDP'] = gdpDict[Year]\n",
    "        \n",
    "        "
   ]
  },
  {
   "cell_type": "markdown",
   "metadata": {},
   "source": [
    "# Syrian Arab Republic "
   ]
  },
  {
   "cell_type": "code",
   "execution_count": 53,
   "metadata": {
    "collapsed": true
   },
   "outputs": [],
   "source": [
    "# Reading in the GDP info for Syrian Arab Republic \n",
    "if not os.path.exists( r\"../../data/raw/UNData/UN_SyrianArabRep_GDP.csv\" ):\n",
    "    print(\"Missing dataset file\")"
   ]
  },
  {
   "cell_type": "code",
   "execution_count": 54,
   "metadata": {
    "collapsed": true
   },
   "outputs": [],
   "source": [
    "# read the UN Data for Syrian Arab Republic into a dataframe\n",
    "sarGDP = pd.read_csv( r\"../../data/raw/UNData/UN_SyrianArabRep_GDP.csv\"  , encoding = \"ISO-8859-1\")"
   ]
  },
  {
   "cell_type": "code",
   "execution_count": 55,
   "metadata": {
    "collapsed": true
   },
   "outputs": [],
   "source": [
    "# Dictionary for holding GDP info Key - Year , Value - GDP\n",
    "gdpDict = {}\n",
    "\n",
    "for x, row in sarGDP.iterrows():\n",
    "    \n",
    "    GDP = sarGDP['Value'].iloc[x]\n",
    "    Year = sarGDP['Year'].iloc[x]\n",
    "    \n",
    "    gdpDict.update({Year: GDP})\n",
    "    \n",
    "    "
   ]
  },
  {
   "cell_type": "code",
   "execution_count": 56,
   "metadata": {
    "collapsed": true
   },
   "outputs": [],
   "source": [
    "# filling some the nulls from 1990 - 2016 with the GDP dictionary \n",
    "for x, row in df.iterrows():\n",
    "    \n",
    "    Year = df['Year'].iloc[x]\n",
    "    country = df['Country'].iloc[x]\n",
    "    GDP = df['GDP'].iloc[x]\n",
    "    \n",
    "    if(country == 'Syrian Arab Republic' and pd.isnull(GDP) and Year >= 1990):\n",
    "        df.loc[x, 'GDP'] = gdpDict[Year]\n",
    "        \n",
    "        "
   ]
  },
  {
   "cell_type": "markdown",
   "metadata": {},
   "source": [
    "# Venezuela RB"
   ]
  },
  {
   "cell_type": "code",
   "execution_count": 57,
   "metadata": {
    "collapsed": true
   },
   "outputs": [],
   "source": [
    "# Reading in the GDP info for Venezuela\n",
    "if not os.path.exists( r\"../../data/raw/UNData/UN_Venezuela_GDP.csv\" ):\n",
    "    print(\"Missing dataset file\")"
   ]
  },
  {
   "cell_type": "code",
   "execution_count": 58,
   "metadata": {
    "collapsed": true
   },
   "outputs": [],
   "source": [
    "# read  the UN Data for Venezuela into a dataframe\n",
    "vGDP = pd.read_csv( r\"../../data/raw/UNData/UN_Venezuela_GDP.csv\"  , encoding = \"ISO-8859-1\")"
   ]
  },
  {
   "cell_type": "code",
   "execution_count": 59,
   "metadata": {
    "collapsed": true
   },
   "outputs": [],
   "source": [
    "# Dictionary for holding GDP info Key - Year , Value - GDP\n",
    "gdpDict = {}\n",
    "\n",
    "for x, row in vGDP.iterrows():\n",
    "    \n",
    "    GDP = vGDP['Value'].iloc[x]\n",
    "    Year = vGDP['Year'].iloc[x]\n",
    "    \n",
    "    gdpDict.update({Year: GDP})\n",
    "    \n",
    "    "
   ]
  },
  {
   "cell_type": "code",
   "execution_count": 60,
   "metadata": {
    "collapsed": true
   },
   "outputs": [],
   "source": [
    "# filling some the nulls from 1990 - 2016 with the GDP dictionary \n",
    "for x, row in df.iterrows():\n",
    "    \n",
    "    Year = df['Year'].iloc[x]\n",
    "    country = df['Country'].iloc[x]\n",
    "    GDP = df['GDP'].iloc[x]\n",
    "    \n",
    "    if(country == 'Venezuela, RB' and pd.isnull(GDP) and Year >= 1990):\n",
    "        df.loc[x, 'GDP'] = gdpDict[Year]\n",
    "        \n",
    "        "
   ]
  },
  {
   "cell_type": "code",
   "execution_count": 61,
   "metadata": {},
   "outputs": [
    {
     "data": {
      "text/plain": [
       "Index(['Country', 'Year', 'Population', 'Males', 'Females', 'Life_Expectancy',\n",
       "       'GDP', 'Region', 'Elevation', 'Area_SqKM', 'Centroid_Longitude',\n",
       "       'Centroid_Latitude', 'Population_Density', 'CO2_Emissions',\n",
       "       'Methane_Emissions', 'Nitrous_Oxide_Emisions', 'Total_Emissions',\n",
       "       'Emmisions_per_Capita', 'Code'],\n",
       "      dtype='object')"
      ]
     },
     "execution_count": 61,
     "metadata": {},
     "output_type": "execute_result"
    }
   ],
   "source": [
    "df.columns"
   ]
  },
  {
   "cell_type": "markdown",
   "metadata": {},
   "source": [
    "# Making sure all null values for GDP between 2012 and 2016 are eliminated"
   ]
  },
  {
   "cell_type": "code",
   "execution_count": 62,
   "metadata": {},
   "outputs": [
    {
     "data": {
      "text/plain": [
       "array(['Bahrain'], dtype=object)"
      ]
     },
     "execution_count": 62,
     "metadata": {},
     "output_type": "execute_result"
    }
   ],
   "source": [
    "# Countries with null values for 2012, 2014 or 2016\n",
    "temp = df[df['GDP'].isnull()]\n",
    "temp[temp['Year'] >= 2012]['Country'].unique()"
   ]
  },
  {
   "cell_type": "markdown",
   "metadata": {},
   "source": [
    "# Removing Nulls in list above\n",
    "If a country has a null GDP value we take the GDP values for the 3 years after and get the average growth. If the average growth is positive we then multiply 1 - average growth by the first year following the null GDP to get the GDP for this null year.<br> If the average growth is negative we get the absolute value of the negative average growth, add it to 1 and multiply it by the gdp for the year after. So here we assume that the Year with the null had a greater GDP than the next. We repeat the process to get GDP for all the nulls. We iterate through the df backwards so they're will always be a GDP value for each country before the null where we can apply the process just mentioned. Like we said above once we have elimated the possability of null values for the Years 2016, 2014 and 2012 for every country then every country will have at least three years that we can use to fill remaining GDP nulls by the process explained above."
   ]
  },
  {
   "cell_type": "markdown",
   "metadata": {},
   "source": [
    "# For Loop for filling the rest of the Nulls"
   ]
  },
  {
   "cell_type": "code",
   "execution_count": 63,
   "metadata": {
    "collapsed": true
   },
   "outputs": [],
   "source": [
    "# iteration through the df is backwards so we can use the GDP years from after the earlier null years \n",
    "for x in reversed(df.index):\n",
    "    \n",
    "    \n",
    "    GDP = df['GDP'].iloc[x]\n",
    "    Year = df['Year'].iloc[x]\n",
    "    country = df['Country'].iloc[x]\n",
    "    \n",
    "    if(pd.isnull(GDP)):\n",
    "        # getting values for the 3 years after the null year of GDP\n",
    "        gdp_1 = df['GDP'].iloc[x + 1]\n",
    "        gdp_2 = df['GDP'].iloc[x + 2]\n",
    "        gdp_3 = df['GDP'].iloc[x + 3]\n",
    "        \n",
    "        # Calcullating the average growth \n",
    "        diff2 = (gdp_3-gdp_2)/gdp_2\n",
    "        diff1 = (gdp_2-gdp_1)/gdp_1\n",
    "        avgGrowth = (diff1+diff2)/2\n",
    "        \n",
    "        \n",
    "        # Setting the GDP vaule of the null year \n",
    "        \n",
    "        # if the avergae growth percentage is between 0-99%\n",
    "        if(avgGrowth >= 0 and avgGrowth <=  1):\n",
    "            gdp_curr = gdp_1*(1-avgGrowth)\n",
    "            df.loc[x, 'GDP'] = gdp_curr\n",
    "            \n",
    "        # if the avergae growth is a negative value we presume the null year was also better than the following year\n",
    "        # so the null year will be the average negative decrease higher than its following year \n",
    "        if(avgGrowth < 0):\n",
    "            gdp_curr = gdp_1 / (1 + avgGrowth)\n",
    "            df.loc[x, 'GDP'] = gdp_curr\n",
    "        \n",
    "        # if the average growth is above 100%\n",
    "        if(avgGrowth > 1):\n",
    "            gdp_curr = gdp_1*(avgGrowth)\n",
    "            df.loc[x, 'GDP'] = gdp_curr\n",
    "            \n",
    "            \n",
    "        # Updating the track variables\n",
    "        GDP = df['GDP'].iloc[x]\n",
    "        Year = df['Year'].iloc[x]\n",
    "        country = df['Country'].iloc[x]"
   ]
  },
  {
   "cell_type": "markdown",
   "metadata": {},
   "source": [
    "# Checking the nulls count again "
   ]
  },
  {
   "cell_type": "code",
   "execution_count": 64,
   "metadata": {
    "collapsed": true
   },
   "outputs": [],
   "source": [
    "# these are all the rows with null GDP values\n",
    "nullGDPdf = df.loc[df['GDP'].isnull()].reset_index()\n",
    "# Dropping the old index\n",
    "nullGDPdf = nullGDPdf.drop(nullGDPdf.columns[[0]], axis=1)"
   ]
  },
  {
   "cell_type": "code",
   "execution_count": 65,
   "metadata": {
    "collapsed": true
   },
   "outputs": [],
   "source": [
    "# null dictionary \n",
    "nullDic = {}"
   ]
  },
  {
   "cell_type": "code",
   "execution_count": 66,
   "metadata": {
    "collapsed": true
   },
   "outputs": [],
   "source": [
    "for x, row in nullGDPdf.iterrows():\n",
    "    \n",
    "    country = nullGDPdf['Country'].iloc[x]\n",
    "    \n",
    "    # gets how many rows/ years that have null values for GDP \n",
    "    temp = nullGDPdf.loc[nullGDPdf['Country'] == country]\n",
    "    length = len(temp.loc[temp['GDP'].isnull()])\n",
    "    \n",
    "    nullDic.update({country: length})"
   ]
  },
  {
   "cell_type": "code",
   "execution_count": 67,
   "metadata": {},
   "outputs": [
    {
     "data": {
      "text/plain": [
       "{}"
      ]
     },
     "execution_count": 67,
     "metadata": {},
     "output_type": "execute_result"
    }
   ],
   "source": [
    "nullDic"
   ]
  },
  {
   "cell_type": "code",
   "execution_count": 68,
   "metadata": {},
   "outputs": [
    {
     "data": {
      "text/plain": [
       "Country                      0\n",
       "Year                         0\n",
       "Population                   0\n",
       "Males                        0\n",
       "Females                      0\n",
       "Life_Expectancy            142\n",
       "GDP                          0\n",
       "Region                       0\n",
       "Elevation                  315\n",
       "Area_SqKM                  315\n",
       "Centroid_Longitude         315\n",
       "Centroid_Latitude          315\n",
       "Population_Density         315\n",
       "CO2_Emissions              259\n",
       "Methane_Emissions          601\n",
       "Nitrous_Oxide_Emisions     601\n",
       "Total_Emissions              0\n",
       "Emmisions_per_Capita      2373\n",
       "Code                         0\n",
       "dtype: int64"
      ]
     },
     "execution_count": 68,
     "metadata": {},
     "output_type": "execute_result"
    }
   ],
   "source": [
    "# no nulls left \n",
    "df.isnull().sum()"
   ]
  },
  {
   "cell_type": "markdown",
   "metadata": {},
   "source": [
    "# Adding back in the previously removed countries \n",
    "The rest of the nulls below will be fixed in Notebook 400. "
   ]
  },
  {
   "cell_type": "code",
   "execution_count": 69,
   "metadata": {
    "collapsed": true
   },
   "outputs": [],
   "source": [
    "# the gdp values for these countries are added in notebook 400 \n",
    "df = pd.concat([df,removed],ignore_index=True)"
   ]
  },
  {
   "cell_type": "code",
   "execution_count": 70,
   "metadata": {
    "scrolled": true
   },
   "outputs": [
    {
     "data": {
      "text/plain": [
       "161"
      ]
     },
     "execution_count": 70,
     "metadata": {},
     "output_type": "execute_result"
    }
   ],
   "source": [
    "# number of nulls \n",
    "len(df[df['GDP'].isnull()])"
   ]
  },
  {
   "cell_type": "code",
   "execution_count": 71,
   "metadata": {
    "collapsed": true
   },
   "outputs": [],
   "source": [
    "# Changing the order of the columns \n",
    "df = df[['Country', 'Year', 'Population', 'Males', 'Females', 'Life_Expectancy',\n",
    "       'GDP', 'Region', 'Elevation', 'Area_SqKM', 'Centroid_Longitude',\n",
    "       'Centroid_Latitude', 'Population_Density', 'CO2_Emissions',\n",
    "       'Methane_Emissions', 'Nitrous_Oxide_Emisions', 'Total_Emissions',\n",
    "       'Emmisions_per_Capita', 'Code']]"
   ]
  },
  {
   "cell_type": "code",
   "execution_count": 72,
   "metadata": {
    "collapsed": true
   },
   "outputs": [],
   "source": [
    "df.to_csv( r\"../../data/prep/Countries/countries_275.csv\", index=False)"
   ]
  }
 ],
 "metadata": {
  "kernelspec": {
   "display_name": "Python 3",
   "language": "python",
   "name": "python3"
  },
  "language_info": {
   "codemirror_mode": {
    "name": "ipython",
    "version": 3
   },
   "file_extension": ".py",
   "mimetype": "text/x-python",
   "name": "python",
   "nbconvert_exporter": "python",
   "pygments_lexer": "ipython3",
   "version": "3.6.3"
  }
 },
 "nbformat": 4,
 "nbformat_minor": 2
}
