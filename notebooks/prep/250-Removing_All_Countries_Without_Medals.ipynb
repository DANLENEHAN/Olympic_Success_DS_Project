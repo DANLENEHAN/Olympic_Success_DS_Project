{
 "cells": [
  {
   "cell_type": "markdown",
   "metadata": {
    "collapsed": true
   },
   "source": [
    "# Removing all countries without Medal wins"
   ]
  },
  {
   "cell_type": "markdown",
   "metadata": {},
   "source": [
    "# Purpose \n",
    "Any country that has not won a medal are no use for our study on the factors that affect success so we'll remove them. "
   ]
  },
  {
   "cell_type": "markdown",
   "metadata": {},
   "source": [
    "# Datasets\n",
    "Uses: <br>\n",
    "** countries_200.csv ** from 200-Country_Preparation <br>\n",
    "Creates: &emsp;\n",
    "<br>\n",
    "** countries_250.csv ** csv containing country information on countries who have won a medal(s)"
   ]
  },
  {
   "cell_type": "code",
   "execution_count": 1,
   "metadata": {
    "collapsed": true
   },
   "outputs": [],
   "source": [
    "import os.path\n",
    "import pandas as pd\n",
    "import numpy as np\n",
    "import matplotlib.pyplot as plt\n",
    "import math\n",
    "%matplotlib inline\n",
    "from bs4 import BeautifulSoup\n",
    "import webbrowser\n",
    "import urllib.request\n",
    "from lxml import html\n",
    "import zipfile\n",
    "import re\n",
    "import string\n",
    "import sys, os\n",
    "from IPython.display import Image"
   ]
  },
  {
   "cell_type": "code",
   "execution_count": 2,
   "metadata": {
    "collapsed": true
   },
   "outputs": [],
   "source": [
    "# Ensure the file exists\n",
    "if not os.path.exists(  r\"../../data/prep/Countries/countries_200.csv\" ):\n",
    "    print(\"Missing dataset file\")"
   ]
  },
  {
   "cell_type": "code",
   "execution_count": 3,
   "metadata": {
    "collapsed": true
   },
   "outputs": [],
   "source": [
    "# read the countries df into a dataframe\n",
    "df = pd.read_csv(  r\"../../data/prep/Countries/countries_200.csv\", encoding = \"ISO-8859-1\")"
   ]
  },
  {
   "cell_type": "markdown",
   "metadata": {},
   "source": [
    "# Country df\n",
    "This DataFrame called df has information on all the factors we'll be analysing for all the countries.  "
   ]
  },
  {
   "cell_type": "code",
   "execution_count": 4,
   "metadata": {},
   "outputs": [
    {
     "data": {
      "text/plain": [
       "Index(['Country', 'Year', 'Population', 'Males', 'Females', 'Life_Expectancy',\n",
       "       'GDP', 'Region', 'Elevation', 'Area_SqKM', 'Centroid_Longitude',\n",
       "       'Centroid_Latitude', 'Population_Density', 'CO2_Emissions',\n",
       "       'Methane_Emissions', 'Nitrous_Oxide_Emisions', 'Total_Emissions',\n",
       "       'Emmisions_per_Capita'],\n",
       "      dtype='object')"
      ]
     },
     "execution_count": 4,
     "metadata": {},
     "output_type": "execute_result"
    }
   ],
   "source": [
    "# printing the country df out looking at field names \n",
    "df.columns"
   ]
  },
  {
   "cell_type": "code",
   "execution_count": 5,
   "metadata": {},
   "outputs": [
    {
     "data": {
      "text/plain": [
       "Country                      0\n",
       "Year                         0\n",
       "Population                   0\n",
       "Males                        0\n",
       "Females                      0\n",
       "Life_Expectancy            455\n",
       "GDP                        892\n",
       "Region                       0\n",
       "Elevation                  861\n",
       "Area_SqKM                  861\n",
       "Centroid_Longitude         861\n",
       "Centroid_Latitude          861\n",
       "Population_Density         861\n",
       "CO2_Emissions              675\n",
       "Methane_Emissions         1118\n",
       "Nitrous_Oxide_Emisions    1102\n",
       "Total_Emissions              0\n",
       "Emmisions_per_Capita      4158\n",
       "dtype: int64"
      ]
     },
     "execution_count": 5,
     "metadata": {},
     "output_type": "execute_result"
    }
   ],
   "source": [
    "# checking the number of null values we are dealing with\n",
    "df.isnull().sum()"
   ]
  },
  {
   "cell_type": "markdown",
   "metadata": {},
   "source": [
    "# Removing countries that have not won any medals \n",
    "We don't need any information on any countries outside of the countries who won medals. As mentioned above"
   ]
  },
  {
   "cell_type": "code",
   "execution_count": 6,
   "metadata": {
    "collapsed": true
   },
   "outputs": [],
   "source": [
    "# Ensure the file exists\n",
    "if not os.path.exists(  r\"../../data/raw/dictionary.csv\" ):\n",
    "    print(\"Missing dataset file\")"
   ]
  },
  {
   "cell_type": "code",
   "execution_count": 7,
   "metadata": {
    "collapsed": true
   },
   "outputs": [],
   "source": [
    "# read the dictionary df into a dataframe\n",
    "dfD = pd.read_csv(  r\"../../data/raw/dictionary.csv\", encoding = \"ISO-8859-1\")"
   ]
  },
  {
   "cell_type": "markdown",
   "metadata": {},
   "source": [
    "# Dictionary DataFrame \n",
    "This dataFrame/ csv contains all the country names along with their country code and region. "
   ]
  },
  {
   "cell_type": "code",
   "execution_count": 8,
   "metadata": {},
   "outputs": [
    {
     "data": {
      "text/plain": [
       "Index(['Country', 'Code', 'Region'], dtype='object')"
      ]
     },
     "execution_count": 8,
     "metadata": {},
     "output_type": "execute_result"
    }
   ],
   "source": [
    "dfD.columns"
   ]
  },
  {
   "cell_type": "code",
   "execution_count": 9,
   "metadata": {
    "collapsed": true
   },
   "outputs": [],
   "source": [
    "# Ensure the file exists\n",
    "if not os.path.exists(  r\"..\\..\\data\\prep\\Games\\Games-950.csv\" ):\n",
    "    print(\"Missing dataset file\")"
   ]
  },
  {
   "cell_type": "code",
   "execution_count": 10,
   "metadata": {
    "collapsed": true
   },
   "outputs": [],
   "source": [
    "# read the medaldf df into a dataframe\n",
    "Medaldf = pd.read_csv(  r\"..\\..\\data\\prep\\Games\\Games-950.csv\", encoding = \"ISO-8859-1\")"
   ]
  },
  {
   "cell_type": "markdown",
   "metadata": {},
   "source": [
    "# Medal DataFrame \n",
    "The medal dataFrame contains records of all the medals won and information on the countries and athletes that won them. We'll need this dataFrame in order to find out which countries won medals then telling us which countries we can remove from the country dataFrame 'df'."
   ]
  },
  {
   "cell_type": "code",
   "execution_count": 11,
   "metadata": {},
   "outputs": [
    {
     "data": {
      "text/plain": [
       "Index(['Year', 'Host_Country', 'Host_City', 'Summer', 'Winter', 'Total_Males',\n",
       "       'Total_Females', 'Total_Athletes', 'Discipline', 'Sport', 'Ath_Name',\n",
       "       'Gender', 'Home_Adv', 'Gold', 'Silver', 'Bronze', 'Total_Medals',\n",
       "       'Ath_Rating', 'Ath_Rank', 'NOC', 'NOC_Males_Sent', 'NOC_Females_Sent',\n",
       "       'NOC_Total_Sent', 'NOC_Gold', 'NOC_Silver', 'NOC_Bronze',\n",
       "       'NOC_Total_Medals', 'NOC_Rating', 'NOC_Rank'],\n",
       "      dtype='object')"
      ]
     },
     "execution_count": 11,
     "metadata": {},
     "output_type": "execute_result"
    }
   ],
   "source": [
    "Medaldf.columns"
   ]
  },
  {
   "cell_type": "code",
   "execution_count": 12,
   "metadata": {},
   "outputs": [
    {
     "data": {
      "text/plain": [
       "array(['ARG', 'AUS', 'AUT', 'BEL', 'BRA', 'BUL', 'BWI', 'CAN', 'DEN',\n",
       "       'EGY', 'ESP', 'ETH', 'EUA', 'FIN', 'FRA', 'GBR', 'GHA', 'GRE',\n",
       "       'HUN', 'IND', 'IRI', 'IRQ', 'ITA', 'JPN', 'MAR', 'MEX', 'NED',\n",
       "       'NOR', 'NZL', 'PAK', 'POL', 'POR', 'ROU', 'RSA', 'SGP', 'SUI',\n",
       "       'SWE', 'TCH', 'TPE', 'TUR', 'URS', 'USA', 'VEN', 'YUG', 'PRK',\n",
       "       'BAH', 'CUB', 'IRL', 'KEN', 'KOR', 'NGR', 'PHI', 'TTO', 'TUN',\n",
       "       'URU', 'FRG', 'GDR', 'CMR', 'JAM', 'MGL', 'UGA', 'COL', 'LBN',\n",
       "       'NIG', 'LIE', 'BER', 'PUR', 'THA', 'GUY', 'TAN', 'ZIM', 'ALG',\n",
       "       'CHN', 'CIV', 'DOM', 'ISL', 'PER', 'SYR', 'ZAM', 'AHO', 'CHI',\n",
       "       'CRC', 'DJI', 'INA', 'ISV', 'SEN', 'SUR', 'CRO', 'EST', 'EUN',\n",
       "       'GER', 'IOP', 'ISR', 'LAT', 'LTU', 'MAS', 'NAM', 'QAT', 'SLO',\n",
       "       'LUX', 'BLR', 'KAZ', 'RUS', 'UKR', 'UZB', 'ARM', 'AZE', 'BDI',\n",
       "       'CZE', 'ECU', 'GEO', 'HKG', 'MDA', 'MOZ', 'SVK', 'TGA', 'BAR',\n",
       "       'KGZ', 'KSA', 'KUW', 'MKD', 'SRI', 'VIE', 'ERI', 'PAR', 'SCG',\n",
       "       'UAE', 'AFG', 'MRI', 'PAN', 'SAM', 'SRB', 'SUD', 'TJK', 'TOG',\n",
       "       'BOT', 'BRN', 'CYP', 'GAB', 'GRN', 'GUA', 'MNE', 'FIJ', 'IOA',\n",
       "       'JOR', 'KOS', 'OAR'], dtype=object)"
      ]
     },
     "execution_count": 12,
     "metadata": {},
     "output_type": "execute_result"
    }
   ],
   "source": [
    "# These are the NOCs that matter \n",
    "Medaldf['NOC'].unique()"
   ]
  },
  {
   "cell_type": "markdown",
   "metadata": {},
   "source": [
    "# Getting the NOCs of each country in the Country df\n",
    "The country dataFrame we have does not currently have the country code for each country so we'll use the dictionary df to create and populate this field. To populate the code field I'll create a dictionary containing all the countries as keys and their NOCs as values. "
   ]
  },
  {
   "cell_type": "code",
   "execution_count": 13,
   "metadata": {
    "collapsed": true
   },
   "outputs": [],
   "source": [
    "countrydf = df"
   ]
  },
  {
   "cell_type": "code",
   "execution_count": 14,
   "metadata": {},
   "outputs": [
    {
     "data": {
      "text/plain": [
       "Index(['Country', 'Year', 'Population', 'Males', 'Females', 'Life_Expectancy',\n",
       "       'GDP', 'Region', 'Elevation', 'Area_SqKM', 'Centroid_Longitude',\n",
       "       'Centroid_Latitude', 'Population_Density', 'CO2_Emissions',\n",
       "       'Methane_Emissions', 'Nitrous_Oxide_Emisions', 'Total_Emissions',\n",
       "       'Emmisions_per_Capita'],\n",
       "      dtype='object')"
      ]
     },
     "execution_count": 14,
     "metadata": {},
     "output_type": "execute_result"
    }
   ],
   "source": [
    "countrydf.columns"
   ]
  },
  {
   "cell_type": "code",
   "execution_count": 15,
   "metadata": {
    "collapsed": true
   },
   "outputs": [],
   "source": [
    "# creating the dictionary \n",
    "countrydic = {}"
   ]
  },
  {
   "cell_type": "markdown",
   "metadata": {},
   "source": [
    "# Creating the dictionary of countries and country codes "
   ]
  },
  {
   "cell_type": "code",
   "execution_count": 16,
   "metadata": {
    "collapsed": true
   },
   "outputs": [],
   "source": [
    "# For that fills the country name, NOC dictionary \n",
    "dfD['Dic'] = None \n",
    "\n",
    "for x, row in dfD.iterrows():\n",
    "    \n",
    "    country = dfD['Country'].iloc[x]\n",
    "    code = dfD['Code'].iloc[x]\n",
    "    \n",
    "    countrydic.update({country: code})"
   ]
  },
  {
   "cell_type": "markdown",
   "metadata": {},
   "source": [
    "# A look at the Country Dictionary "
   ]
  },
  {
   "cell_type": "code",
   "execution_count": 17,
   "metadata": {
    "collapsed": true
   },
   "outputs": [],
   "source": [
    "countrydic = {'Afghanistan': 'AFG',\n",
    " 'Albania': 'ALB',\n",
    " 'Algeria': 'ALG',\n",
    " 'American Samoa': 'ASA',\n",
    " 'Andorra': 'AND',\n",
    " 'Angola': 'ANG',\n",
    " 'Antigua and Barbuda': 'ANT',\n",
    " 'Argentina': 'ARG',\n",
    " 'Armenia': 'ARM',\n",
    " 'Aruba': 'ARU',\n",
    " 'Australia': 'AUS',\n",
    " 'Austria': 'AUT',\n",
    " 'Azerbaijan': 'AZE',\n",
    " 'Bahamas': 'BAH',\n",
    " 'Bahamas, The' : 'BAH',       \n",
    " 'Bahrain': 'BRN',\n",
    " 'Bangladesh': 'BAN',\n",
    " 'Barbados': 'BAR',\n",
    " 'Belarus': 'BLR',\n",
    " 'Belgium': 'BEL',\n",
    " 'Belize': 'BIZ',\n",
    " 'Benin': 'BEN',\n",
    " 'Bermuda': 'BER',\n",
    " 'Bhutan': 'BHU',\n",
    " 'Bolivia': 'BOL',\n",
    " 'Bosnia and Herzegovina': 'BIH',\n",
    " 'Botswana': 'BOT',\n",
    " 'Brazil': 'BRA',\n",
    " 'British Virgin Islands': 'IVB',\n",
    " 'Brunei Darussalam': 'BRU',\n",
    " 'Bulgaria': 'BUL',\n",
    " 'Burkina Faso': 'BUR',\n",
    " 'Burundi': 'BDI',\n",
    " 'Cabo Verde': 'CPV',\n",
    " 'Cambodia': 'CAM',\n",
    " 'Cameroon': 'CMR',\n",
    " 'Canada': 'CAN',\n",
    " 'Cayman Islands': 'CAY',\n",
    " 'Central African Republic': 'CAF',\n",
    " 'Chad': 'CHA',\n",
    " 'Chile': 'CHI',\n",
    " 'China': 'CHN',\n",
    " 'Colombia': 'COL',\n",
    " 'Comoros': 'COM',\n",
    " 'Congo, Dem Rep': 'COD', \n",
    " 'Congo, Dem. Rep.': 'COD', \n",
    " 'Costa Rica': 'CRC',\n",
    " \"Cote d'Ivoire\": 'CIV',\n",
    " 'Croatia': 'CRO',\n",
    " 'Cuba': 'CUB',\n",
    " 'Curacao': 'CUW',\n",
    " 'Cyprus': 'CYP',\n",
    " 'Czech Republic': 'CZE',\n",
    " 'Denmark': 'DEN',\n",
    " 'Djibouti': 'DJI',\n",
    " 'Dominica': 'DMA',\n",
    " 'Dominican Republic': 'DOM',\n",
    " 'Ecuador': 'ECU',\n",
    " 'Egypt Arab Rep': 'EGY',\n",
    " 'Egypt, Arab Rep.': 'EGY',\n",
    " 'El Salvador': 'ESA',\n",
    " 'Equatorial Guinea': 'GEQ',\n",
    " 'Eritrea': 'ERI',\n",
    " 'Estonia': 'EST',\n",
    " 'Ethiopia': 'ETH',\n",
    " 'Fiji': 'FIJ',\n",
    " 'Finland': 'FIN',\n",
    " 'France': 'FRA',\n",
    " 'Gabon': 'GAB',\n",
    " 'Gambia': 'GAM',\n",
    " 'Gambia, The': 'GAM',\n",
    " 'Georgia': 'GEO',\n",
    " 'Germany': 'GER',\n",
    " 'Ghana': 'GHA',\n",
    " 'Greece': 'GRE',\n",
    " 'Grenada': 'GRN',\n",
    " 'Guam': 'GUM',\n",
    " 'Guatemala': 'GUA',\n",
    " 'Guinea': 'GUI',\n",
    " 'Guinea-Bissau': 'GBS',\n",
    " 'Guyana': 'GUY',\n",
    " 'Haiti': 'HAI',\n",
    " 'Honduras': 'HON',\n",
    " 'Hong Kong SAR, China': 'HKG',\n",
    " 'Hungary': 'HUN',\n",
    " 'Iceland': 'ISL',\n",
    " 'India': 'IND',\n",
    " 'Indonesia': 'INA',\n",
    " 'Iran, Islamic Rep.': 'IRI',\n",
    " 'Iraq': 'IRQ',\n",
    " 'Ireland': 'IRL',\n",
    " 'Israel': 'ISR',\n",
    " 'Italy': 'ITA',\n",
    " 'Jamaica': 'JAM',\n",
    " 'Japan': 'JPN',\n",
    " 'Jordan': 'JOR',\n",
    " 'Kazakhstan': 'KAZ',\n",
    " 'Kenya': 'KEN',\n",
    " \"Korea, Dem. People\\x92s Rep.\": 'PRK',\n",
    " 'Korea, Dem. People?s Rep.': 'PRK',\n",
    " 'Korea, Rep.': 'KOR',\n",
    " 'Kosovo': 'KOS',\n",
    " 'Kuwait': 'KUW',\n",
    " 'Kyrgyz Republic': 'KGZ',\n",
    " 'Lao PDR': 'LAO',\n",
    " 'Latvia': 'LAT',\n",
    " 'Lebanon': 'LIB',\n",
    " 'Lesotho': 'LES',\n",
    " 'Liberia': 'LBR',\n",
    " 'Libya': 'LBA',\n",
    " 'Liechtenstein': 'LIE',\n",
    " 'Lithuania': 'LTU',\n",
    " 'Luxembourg': 'LUX',\n",
    " 'Macedonia, FYR': 'MKD',\n",
    " 'Madagascar': 'MAD',\n",
    " 'Malawi': 'MAW',\n",
    " 'Malaysia': 'MAS',\n",
    " 'Maldives': 'MDV',\n",
    " 'Mali': 'MLI',\n",
    " 'Malta': 'MLT',\n",
    " 'Mauritania': 'MTN',\n",
    " 'Mauritius': 'MRI',\n",
    " 'Mexico': 'MEX',\n",
    " 'Micronesia Fed. Sts.': 'FSM',\n",
    " 'Micronesia, Fed. Sts.': 'FSM', \n",
    " 'Moldova': 'MDA',\n",
    " 'Monaco': 'MON',\n",
    " 'Mongolia': 'MGL',\n",
    " 'Montenegro': 'MNE',\n",
    " 'Morocco': 'MAR',\n",
    " 'Mozambique': 'MOZ',\n",
    " 'Myanmar': 'MYA',\n",
    " 'Namibia': 'NAM',\n",
    " 'Nauru': 'NRU',\n",
    " 'Nepal': 'NEP',\n",
    " 'Netherlands': 'NED',\n",
    " 'New Zealand': 'NZL',\n",
    " 'Nicaragua': 'NCA',\n",
    " 'Niger': 'NIG',\n",
    " 'Nigeria': 'NGR',\n",
    " 'Norway': 'NOR',\n",
    " 'Oman': 'OMA',\n",
    " 'Pakistan': 'PAK',\n",
    " 'Palau': 'PLW',\n",
    " 'Panama': 'PAN',\n",
    " 'Papua New Guinea': 'PNG',\n",
    " 'Paraguay': 'PAR',\n",
    " 'Peru': 'PER',\n",
    " 'Philippines': 'PHI',\n",
    " 'Poland': 'POL',\n",
    " 'Portugal': 'POR',\n",
    " 'Puerto Rico': 'PUR',\n",
    " 'Qatar': 'QAT',\n",
    " 'Romania': 'ROU',\n",
    " 'Russian Federation': 'RUS',\n",
    " 'Rwanda': 'RWA',\n",
    " 'Samoa': 'SAM',\n",
    " 'San Marino': 'SMR',\n",
    " 'Sao Tome and Principe': 'STP',\n",
    " 'Saudi Arabia': 'KSA',\n",
    " 'Senegal': 'SEN',\n",
    " 'Serbia': 'SRB',\n",
    " 'Seychelles': 'SEY',\n",
    " 'Sierra Leone': 'SLE',\n",
    " 'Singapore': 'SGP',\n",
    " 'Slovak Republic': 'SVK',\n",
    " 'Slovenia': 'SLO',\n",
    " 'Solomon Islands': 'SOL',\n",
    " 'Somalia': 'SOM',\n",
    " 'South Africa': 'RSA',\n",
    " 'Spain': 'ESP',\n",
    " 'Sri Lanka': 'SRI',\n",
    " 'St. Kitts and Nevis': 'SKN',\n",
    " 'St. Lucia': 'LCA',\n",
    " 'St. Vincent and the Grenadines': 'VIN',\n",
    " 'Sudan': 'SUD',\n",
    " 'Suriname': 'SUR',\n",
    " 'Swaziland': 'SWZ',\n",
    " 'Sweden': 'SWE',\n",
    " 'Switzerland': 'SUI',\n",
    " 'Syrian Arab Republic': 'SYR',\n",
    " 'Tajikistan': 'TJK',\n",
    " 'Tanzania': 'TAN',\n",
    " 'Thailand': 'THA',\n",
    " 'Timor-Leste': 'TLS',\n",
    " 'Togo': 'TOG',\n",
    " 'Tonga': 'TGA',\n",
    " 'Trinidad and Tobago': 'TTO',\n",
    " 'Tunisia': 'TUN',\n",
    " 'Turkey': 'TUR',\n",
    " 'Turkmenistan': 'TKM',\n",
    " 'Uganda': 'UGA',\n",
    " 'Ukraine': 'UKR',\n",
    " 'United Arab Emirates': 'UAE',\n",
    " 'United Kingdom': 'GBR',\n",
    " 'United States': 'USA',\n",
    " 'Uruguay': 'URU',\n",
    " 'Uzbekistan': 'UZB',\n",
    " 'Vanuatu': 'VAN',\n",
    " 'Venezuela': 'VEN',\n",
    " 'Venezuela, RB' : 'VEN',\n",
    " 'Vietnam': 'VIE',\n",
    " 'Virgin Islands (US)': 'ISV',\n",
    " 'Virgin Islands (U.S.)': 'ISV',\n",
    " 'Yemen, Rep.': 'YEM',\n",
    " 'Zambia': 'ZAM',\n",
    " 'Zimbabwe': 'ZIM'}"
   ]
  },
  {
   "cell_type": "markdown",
   "metadata": {},
   "source": [
    "# Populating the Code Field\n",
    "We'll  iterate through the country df and enter the country name 'key' into the dictionary getting the value 'code' back."
   ]
  },
  {
   "cell_type": "code",
   "execution_count": 18,
   "metadata": {
    "collapsed": true
   },
   "outputs": [],
   "source": [
    "# adding all the NOCs from the dictionary into the countrydf \n",
    "countrydf['Code'] = None \n",
    "\n",
    "for x, row in countrydf.iterrows():\n",
    "    \n",
    "    country = countrydf['Country'].iloc[x]\n",
    "    countrydf.loc[x, 'Code'] = countrydic[country]"
   ]
  },
  {
   "cell_type": "markdown",
   "metadata": {},
   "source": [
    "# Countries that change whose NOCs change between 1960 - 2016\n",
    "The are a few cases where countires like Germany and Soviet Union split and different countries within there bounds end up completing for different teams like the Unified Olympic Team. \n",
    "We'll will not address the issues of countries playing for different countries in this notebook for now we will just leave them in. \n",
    "The list below represents the countires that are invloved in cases where NOCs switch. "
   ]
  },
  {
   "cell_type": "markdown",
   "metadata": {},
   "source": [
    "* All these team switch NOCs or join another at one point.\n",
    "* We'll get the unique conturies and leave them in the country df and get values for their factors then in another notebook we can join them later to their respective NOCs. "
   ]
  },
  {
   "cell_type": "code",
   "execution_count": 19,
   "metadata": {
    "collapsed": true
   },
   "outputs": [],
   "source": [
    "members = ['Armenia','Azerbaijan','Belarus','Georgia','Kazakhstan','Kyrgyz Republic','Moldova',\n",
    "           'Russian Federation','Tajikistan','Turkmenistan','Ukraine','Uzbekistan','Latvia', \n",
    "            'Armenia','Belarus','Kazakhstan','Russian Federation','Uzbekistan',\n",
    "            'Serbia','Montenegro','Macedonia, FYR','Bosnia and Herzegovina','Slovenia','Croatia', \n",
    "            'Armenia', 'Belarus', 'Georgia', 'Kazakhstan', 'Kyrgyz Republic', \n",
    "            'Moldova','Russian Federation', 'Ukraine', 'Uzbekistan', 'Czech Republic','Slovak Republic', 'Serbia','Montenegro', \n",
    "           'Estonia', 'Lativa', 'Lithuania']"
   ]
  },
  {
   "cell_type": "code",
   "execution_count": 20,
   "metadata": {
    "collapsed": true
   },
   "outputs": [],
   "source": [
    "# now we can get the unique countries because some repeat in this list\n",
    "# We'll do this by changing it to a set then back to a list \n",
    "otherCslist = list(set(members))"
   ]
  },
  {
   "cell_type": "code",
   "execution_count": 21,
   "metadata": {
    "collapsed": true
   },
   "outputs": [],
   "source": [
    "# create a df for other countires above so we can get their country codes, by joining to the dictionary df  \n",
    "otherCsdf = pd.DataFrame(columns=['Country'])\n",
    "otherCsdf['Country'] = otherCslist"
   ]
  },
  {
   "cell_type": "code",
   "execution_count": 22,
   "metadata": {},
   "outputs": [
    {
     "data": {
      "text/plain": [
       "Index(['Country'], dtype='object')"
      ]
     },
     "execution_count": 22,
     "metadata": {},
     "output_type": "execute_result"
    }
   ],
   "source": [
    "# now we can join this to the dictonary and get all its Country codes \n",
    "otherCsdf.columns"
   ]
  },
  {
   "cell_type": "code",
   "execution_count": 23,
   "metadata": {},
   "outputs": [
    {
     "data": {
      "text/plain": [
       "24"
      ]
     },
     "execution_count": 23,
     "metadata": {},
     "output_type": "execute_result"
    }
   ],
   "source": [
    "len(otherCsdf)"
   ]
  },
  {
   "cell_type": "code",
   "execution_count": 24,
   "metadata": {
    "collapsed": true
   },
   "outputs": [],
   "source": [
    "# creating a temp dictionary so we can get the country codes for only the countries in this otherCsList\n",
    "tempDict = dfD\n",
    "# then we are removing all the rows with countries that are not in the otherCslist and creating a df\n",
    "# this df contains all the countries and country codes of the country that change NOcs that we need to keep with the Medaldf\n",
    "otherCsdf = tempDict[tempDict['Country'].isin(otherCslist)].reset_index()\n",
    "# Now we can remove the old index field because it is redudant \n",
    "otherCsdf = otherCsdf.drop(otherCsdf.columns[[0]], axis=1)"
   ]
  },
  {
   "cell_type": "code",
   "execution_count": 25,
   "metadata": {},
   "outputs": [
    {
     "data": {
      "text/plain": [
       "array(['ARM', 'AZE', 'BLR', 'BIH', 'CRO', 'CZE', 'EST', 'GEO', 'KAZ',\n",
       "       'KGZ', 'LAT', 'LTU', 'MKD', 'MDA', 'RUS', 'SRB', 'SVK', 'SLO',\n",
       "       'TJK', 'TKM', 'UKR', 'UZB', 'MNE'], dtype=object)"
      ]
     },
     "execution_count": 25,
     "metadata": {},
     "output_type": "execute_result"
    }
   ],
   "source": [
    "# All the country codes for all the coutries that change NOCs\n",
    "otherCsdf['Code'].unique()"
   ]
  },
  {
   "cell_type": "code",
   "execution_count": 26,
   "metadata": {
    "collapsed": true
   },
   "outputs": [],
   "source": [
    "# Making the country codes above into a list \n",
    "otherCslist = ['ARM', 'AZE', 'BLR', 'BIH', 'CRO', 'CZE', 'GEO', 'KAZ', 'KGZ',\n",
    "       'LAT', 'MKD', 'MDA', 'RUS', 'SRB', 'SVK', 'SLO', 'TJK', 'TKM',\n",
    "       'UKR', 'UZB', 'MNE']"
   ]
  },
  {
   "cell_type": "markdown",
   "metadata": {},
   "source": [
    "# Adding the two lists so we'll have a list of only the countries we need for the final country df\n",
    "So we'll add this otherCslist to the unique Nocs in the medalDf and we'll have a list all of these countires "
   ]
  },
  {
   "cell_type": "code",
   "execution_count": 27,
   "metadata": {},
   "outputs": [
    {
     "data": {
      "text/plain": [
       "array(['ARG', 'AUS', 'AUT', 'BEL', 'BRA', 'BUL', 'BWI', 'CAN', 'DEN',\n",
       "       'EGY', 'ESP', 'ETH', 'EUA', 'FIN', 'FRA', 'GBR', 'GHA', 'GRE',\n",
       "       'HUN', 'IND', 'IRI', 'IRQ', 'ITA', 'JPN', 'MAR', 'MEX', 'NED',\n",
       "       'NOR', 'NZL', 'PAK', 'POL', 'POR', 'ROU', 'RSA', 'SGP', 'SUI',\n",
       "       'SWE', 'TCH', 'TPE', 'TUR', 'URS', 'USA', 'VEN', 'YUG', 'PRK',\n",
       "       'BAH', 'CUB', 'IRL', 'KEN', 'KOR', 'NGR', 'PHI', 'TTO', 'TUN',\n",
       "       'URU', 'FRG', 'GDR', 'CMR', 'JAM', 'MGL', 'UGA', 'COL', 'LBN',\n",
       "       'NIG', 'LIE', 'BER', 'PUR', 'THA', 'GUY', 'TAN', 'ZIM', 'ALG',\n",
       "       'CHN', 'CIV', 'DOM', 'ISL', 'PER', 'SYR', 'ZAM', 'AHO', 'CHI',\n",
       "       'CRC', 'DJI', 'INA', 'ISV', 'SEN', 'SUR', 'CRO', 'EST', 'EUN',\n",
       "       'GER', 'IOP', 'ISR', 'LAT', 'LTU', 'MAS', 'NAM', 'QAT', 'SLO',\n",
       "       'LUX', 'BLR', 'KAZ', 'RUS', 'UKR', 'UZB', 'ARM', 'AZE', 'BDI',\n",
       "       'CZE', 'ECU', 'GEO', 'HKG', 'MDA', 'MOZ', 'SVK', 'TGA', 'BAR',\n",
       "       'KGZ', 'KSA', 'KUW', 'MKD', 'SRI', 'VIE', 'ERI', 'PAR', 'SCG',\n",
       "       'UAE', 'AFG', 'MRI', 'PAN', 'SAM', 'SRB', 'SUD', 'TJK', 'TOG',\n",
       "       'BOT', 'BRN', 'CYP', 'GAB', 'GRN', 'GUA', 'MNE', 'FIJ', 'IOA',\n",
       "       'JOR', 'KOS', 'OAR'], dtype=object)"
      ]
     },
     "execution_count": 27,
     "metadata": {},
     "output_type": "execute_result"
    }
   ],
   "source": [
    "# All the country codes for the counries who have won Medals \n",
    "Medaldf['NOC'].unique()"
   ]
  },
  {
   "cell_type": "code",
   "execution_count": 28,
   "metadata": {
    "collapsed": true
   },
   "outputs": [],
   "source": [
    "# turning these country codes for the winners into a list \n",
    "MedaldfCs = ['ARG', 'AUS', 'AUT', 'BEL', 'BRA', 'BUL', 'BWI', 'CAN', 'DEN',\n",
    "       'EGY', 'ESP', 'ETH', 'EUA', 'FIN', 'FRA', 'GBR', 'GHA', 'GRE',\n",
    "       'HUN', 'IND', 'IRI', 'IRQ', 'ITA', 'JPN', 'MAR', 'MEX', 'NED',\n",
    "       'NOR', 'NZL', 'PAK', 'POL', 'POR', 'ROU', 'RSA', 'SGP', 'SUI',\n",
    "       'SWE', 'TCH', 'TPE', 'TUR', 'URS', 'USA', 'VEN', 'YUG', 'PRK',\n",
    "       'BAH', 'CUB', 'IRL', 'KEN', 'KOR', 'NGR', 'PHI', 'TTO', 'TUN',\n",
    "       'URU', 'FRG', 'GDR', 'CMR', 'JAM', 'MGL', 'UGA', 'COL', 'LBN',\n",
    "       'NIG', 'LIE', 'BER', 'PUR', 'THA', 'GUY', 'TAN', 'ZIM', 'ALG',\n",
    "       'CHN', 'CIV', 'DOM', 'ISL', 'PER', 'SYR', 'ZAM', 'AHO', 'CHI',\n",
    "       'CRC', 'DJI', 'INA', 'ISV', 'SEN', 'SUR', 'CRO', 'EST', 'EUN',\n",
    "       'GER', 'IOP', 'ISR', 'LAT', 'LTU', 'MAS', 'NAM', 'QAT', 'SLO',\n",
    "       'LUX', 'BLR', 'KAZ', 'RUS', 'UKR', 'UZB', 'ARM', 'AZE', 'BDI',\n",
    "       'CZE', 'ECU', 'GEO', 'HKG', 'MDA', 'MOZ', 'SVK', 'TGA', 'BAR',\n",
    "       'KGZ', 'KSA', 'KUW', 'MKD', 'SRI', 'VIE', 'ERI', 'PAR', 'SCG',\n",
    "       'UAE', 'AFG', 'MRI', 'PAN', 'SAM', 'SRB', 'SUD', 'TJK', 'TOG',\n",
    "       'BOT', 'BRN', 'CYP', 'GAB', 'GRN', 'GUA', 'MNE', 'FIJ', 'IOA',\n",
    "       'JOR', 'KOS', 'OAR']"
   ]
  },
  {
   "cell_type": "code",
   "execution_count": 29,
   "metadata": {
    "collapsed": true
   },
   "outputs": [],
   "source": [
    "# this is a list of the relevant countries \n",
    "# the winners country codes and the country codes from the countries who have changed NOCs from 1960 - 2016\n",
    "RelCs = list(set(otherCslist + MedaldfCs))"
   ]
  },
  {
   "cell_type": "markdown",
   "metadata": {},
   "source": [
    "# Finally removing all the irrelevant countries from the country df\n",
    "We'll remove all the rows from the country df that are not in this RelCs list above"
   ]
  },
  {
   "cell_type": "code",
   "execution_count": 30,
   "metadata": {
    "collapsed": true
   },
   "outputs": [],
   "source": [
    "countrydf = countrydf[countrydf['Code'].isin(RelCs)].reset_index()\n",
    "# Now we can remove the old index field because it is redudant \n",
    "countrydf = countrydf.drop(countrydf.columns[[0]], axis=1)"
   ]
  },
  {
   "cell_type": "markdown",
   "metadata": {},
   "source": [
    "# This country dataFrame now only contains the relevant countires who have won medals"
   ]
  },
  {
   "cell_type": "code",
   "execution_count": 31,
   "metadata": {
    "collapsed": true
   },
   "outputs": [],
   "source": [
    "df = countrydf"
   ]
  },
  {
   "cell_type": "code",
   "execution_count": 32,
   "metadata": {
    "collapsed": true
   },
   "outputs": [],
   "source": [
    "df.to_csv( r\"../../data/prep/Countries/countries_250.csv\", index=False)"
   ]
  }
 ],
 "metadata": {
  "kernelspec": {
   "display_name": "Python 3",
   "language": "python",
   "name": "python3"
  },
  "language_info": {
   "codemirror_mode": {
    "name": "ipython",
    "version": 3
   },
   "file_extension": ".py",
   "mimetype": "text/x-python",
   "name": "python",
   "nbconvert_exporter": "python",
   "pygments_lexer": "ipython3",
   "version": "3.6.3"
  }
 },
 "nbformat": 4,
 "nbformat_minor": 2
}
